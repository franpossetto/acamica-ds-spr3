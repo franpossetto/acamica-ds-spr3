{
 "cells": [
  {
   "cell_type": "markdown",
   "metadata": {},
   "source": [
    "### Pipeline"
   ]
  },
  {
   "cell_type": "markdown",
   "metadata": {},
   "source": [
    "#### Notebook 1: Analisis Exploratorio\n",
    "1. Importar librerias\n",
    "2. Importar Dataset base.\n",
    "3. Analisis exploratorio de los datos.\n",
    "    3.1 Obtenemos la descripcion de cada variable.\n",
    "    3.2 Visualizacion del Dataset (general, por medio de .head())\n",
    "    3.3 Que tipo de datos conforman el Dataset\n",
    "    3.4 Vemos datos estadisticos generales con .describe().\n",
    "    3.5 Deteccion sustitucion y eliminacion de nulls.\n",
    "    3.6 Eliminar datos duplicados.\n",
    "    3.7 Visualizacion de la distribucion de las variables.\n",
    "    3.9 Hacer/Responder preguntas sobre los datos.\n",
    "    3.10 Filtrado de datos en funcion de Reglas que describan algun comportamiento que nos parezca importante.\n",
    "        3.10.1 Deteccion de outliers\n",
    "\n",
    "Output: Archivo .csv\n",
    "\n",
    "#### Notebook 2: Preparacion del Dataset para utilizar la libreria surprise y Creacion de Modelo Machine Learning.\n",
    "1. Importar Librerias.\n",
    "2. Importar Dataset procesado.\n",
    "3. Implementamos Surprise:\n",
    "    3.1 Creacion de objeto READER.\n",
    "    3.2 Transformaciòn de la data pre-procesada (surprise.dataset.DatasetAutoFolds) por medio del objeto READER. \n",
    "        3.2.1 Le pasamos solo 3 columnas.\n",
    "    3.3 TrainTestSplit\n",
    "    3.4 Elegimos el algoritmo de machine learning que vamos a utilizar.\n",
    "        3.4.1 En este caso elegimos SVD.\n",
    "            3.4.1.1 Creamos el objeto SVD.\n",
    "            3.4.1.2 Hacemos el Fit sobre Train.\n",
    "            3.4.1.3 Hacemos prediction sobre Test.\n",
    "    3.5 Puesta en produccion del modelo:\n",
    "        3.5.1 Hacemos la prueba con un usuario.\n",
    "        3.5.2 Filtramos las peliculas/juegos que el usuario ya vió/jugó.\n",
    "4. Medir error del modelo.\n",
    "5. Evaluamos los resultados.\n",
    "    5.1 Utilizamos Cross Validation.\n",
    "    5.2 Optimizacion del modelo.\n",
    "        5.2.1 Utilizamos GridSearch.\n",
    "    5.3 Ciclo iterativo hacia atrás.\n",
    "        \n",
    "Output: Modelo de Machine Learning entrenado y analisis de Resultados.\n"
   ]
  },
  {
   "cell_type": "code",
   "execution_count": null,
   "metadata": {},
   "outputs": [],
   "source": []
  }
 ],
 "metadata": {
  "kernelspec": {
   "display_name": "Python 3",
   "language": "python",
   "name": "python3"
  },
  "language_info": {
   "codemirror_mode": {
    "name": "ipython",
    "version": 3
   },
   "file_extension": ".py",
   "mimetype": "text/x-python",
   "name": "python",
   "nbconvert_exporter": "python",
   "pygments_lexer": "ipython3",
   "version": "3.6.5"
  }
 },
 "nbformat": 4,
 "nbformat_minor": 2
}
