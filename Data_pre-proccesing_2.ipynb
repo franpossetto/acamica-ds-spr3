{
 "cells": [
  {
   "cell_type": "code",
   "execution_count": 1,
   "id": "13730686",
   "metadata": {},
   "outputs": [],
   "source": [
    "import numpy as np\n",
    "import pandas as pd\n",
    "import matplotlib.pyplot as plt\n",
    "import seaborn as sns\n",
    "sns.set()\n",
    "from nltk.tokenize import sent_tokenize, word_tokenize\n",
    "from textblob import TextBlob\n",
    "from surprise import SVD\n",
    "from surprise import Dataset\n",
    "from surprise import Reader\n",
    "from surprise.model_selection import train_test_split\n",
    "import gc\n",
    "from surprise import accuracy\n",
    "from surprise.model_selection import cross_validate\n",
    "from surprise.model_selection import GridSearchCV"
   ]
  },
  {
   "cell_type": "code",
   "execution_count": 2,
   "id": "c45a95d3",
   "metadata": {},
   "outputs": [],
   "source": [
    "data_reviews= pd.read_csv('C:\\\\Users\\\\Tati\\\\source\\\\repos\\\\acamica-datasets\\\\data_reviews.csv')"
   ]
  },
  {
   "cell_type": "code",
   "execution_count": 3,
   "id": "513ee252",
   "metadata": {},
   "outputs": [],
   "source": [
    "import gzip\n",
    "import pandas as pd\n",
    "\n",
    "def parse(path):\n",
    "    g = gzip.open(path, 'r')\n",
    "    for l in g:\n",
    "        yield eval(l)\n",
    "        \n",
    "data_games = []\n",
    "for l in parse('C:\\\\Users\\\\Tati\\\\source\\\\repos\\\\acamica-datasets\\steam_games.json.gz'):\n",
    "        data_games.append(l)"
   ]
  },
  {
   "cell_type": "code",
   "execution_count": 4,
   "id": "c31d99a7",
   "metadata": {},
   "outputs": [],
   "source": [
    "data_games = pd.DataFrame(data_games)"
   ]
  },
  {
   "cell_type": "markdown",
   "id": "a36729ed",
   "metadata": {},
   "source": [
    "### DESCRIPCIÓN DE FEATURES DATA_REVIEWS\n",
    "username: Nombre del usuario que ha dejado la reseña\n",
    "\n",
    "hours: Cantidad de horas jugadas (acumuladas) en el juego al cual se le ha hecho la reseña\n",
    "\n",
    "products: Cantidad de otros juegos probados\n",
    "\n",
    "product_id: Identificacion númerica del juego reseñado\n",
    "\n",
    "page_order: Número de página en el cual se encuentra el juego dentro de la plataforma\n",
    "\n",
    "date: Fecha en la cual se ha creado la reseña\n",
    "\n",
    "text: Comentario sobre el juego\n",
    "\n",
    "early_access: Si es True significa que el juego puede ser adquirido durante su etapa de desarrollo\n",
    "\n",
    "page: No es interpretable\n",
    "\n",
    "user_id: Identificacion númerica del usuario creador de la reseña\n",
    "\n",
    "found_funny: Cantidad de calificaciones positivas creadas por otros usuarios\n",
    "\n",
    "compensation: Variable no interpretable dada la cantidad de valores nulos contenidos en ella"
   ]
  },
  {
   "cell_type": "code",
   "execution_count": 5,
   "id": "7d5d5581",
   "metadata": {},
   "outputs": [
    {
     "data": {
      "text/html": [
       "<div>\n",
       "<style scoped>\n",
       "    .dataframe tbody tr th:only-of-type {\n",
       "        vertical-align: middle;\n",
       "    }\n",
       "\n",
       "    .dataframe tbody tr th {\n",
       "        vertical-align: top;\n",
       "    }\n",
       "\n",
       "    .dataframe thead th {\n",
       "        text-align: right;\n",
       "    }\n",
       "</style>\n",
       "<table border=\"1\" class=\"dataframe\">\n",
       "  <thead>\n",
       "    <tr style=\"text-align: right;\">\n",
       "      <th></th>\n",
       "      <th>Unnamed: 0</th>\n",
       "      <th>username</th>\n",
       "      <th>hours</th>\n",
       "      <th>products</th>\n",
       "      <th>product_id</th>\n",
       "      <th>page_order</th>\n",
       "      <th>date</th>\n",
       "      <th>text</th>\n",
       "      <th>early_access</th>\n",
       "      <th>page</th>\n",
       "      <th>found_funny</th>\n",
       "      <th>compensation</th>\n",
       "      <th>user_id</th>\n",
       "    </tr>\n",
       "  </thead>\n",
       "  <tbody>\n",
       "    <tr>\n",
       "      <th>0</th>\n",
       "      <td>0</td>\n",
       "      <td>Chaos Syren</td>\n",
       "      <td>0.1</td>\n",
       "      <td>41.0</td>\n",
       "      <td>725280</td>\n",
       "      <td>0</td>\n",
       "      <td>2017-12-17</td>\n",
       "      <td>This would not be acceptable as an entertainme...</td>\n",
       "      <td>False</td>\n",
       "      <td>1</td>\n",
       "      <td>NaN</td>\n",
       "      <td>NaN</td>\n",
       "      <td>NaN</td>\n",
       "    </tr>\n",
       "    <tr>\n",
       "      <th>1</th>\n",
       "      <td>1</td>\n",
       "      <td>₮ʜᴇ Wᴀʀᴛᴏɴ</td>\n",
       "      <td>51.1</td>\n",
       "      <td>769.0</td>\n",
       "      <td>328100</td>\n",
       "      <td>0</td>\n",
       "      <td>2017-12-27</td>\n",
       "      <td>looks like a facebook game</td>\n",
       "      <td>False</td>\n",
       "      <td>1</td>\n",
       "      <td>NaN</td>\n",
       "      <td>NaN</td>\n",
       "      <td>NaN</td>\n",
       "    </tr>\n",
       "    <tr>\n",
       "      <th>2</th>\n",
       "      <td>2</td>\n",
       "      <td>hello?&lt;</td>\n",
       "      <td>14.6</td>\n",
       "      <td>2.0</td>\n",
       "      <td>328100</td>\n",
       "      <td>1</td>\n",
       "      <td>2017-10-16</td>\n",
       "      <td>Better than Minecraft</td>\n",
       "      <td>False</td>\n",
       "      <td>1</td>\n",
       "      <td>2.0</td>\n",
       "      <td>Product received for free</td>\n",
       "      <td>NaN</td>\n",
       "    </tr>\n",
       "    <tr>\n",
       "      <th>3</th>\n",
       "      <td>3</td>\n",
       "      <td>Cyderine916</td>\n",
       "      <td>5.0</td>\n",
       "      <td>64.0</td>\n",
       "      <td>35140</td>\n",
       "      <td>0</td>\n",
       "      <td>2018-01-04</td>\n",
       "      <td>I love and idolized Batman and this game is Ma...</td>\n",
       "      <td>False</td>\n",
       "      <td>1</td>\n",
       "      <td>NaN</td>\n",
       "      <td>NaN</td>\n",
       "      <td>NaN</td>\n",
       "    </tr>\n",
       "    <tr>\n",
       "      <th>4</th>\n",
       "      <td>4</td>\n",
       "      <td>DarklyThinking</td>\n",
       "      <td>16.6</td>\n",
       "      <td>577.0</td>\n",
       "      <td>35140</td>\n",
       "      <td>1</td>\n",
       "      <td>2018-01-04</td>\n",
       "      <td>Still worth playing in 2018.\\nProbably my favo...</td>\n",
       "      <td>False</td>\n",
       "      <td>1</td>\n",
       "      <td>NaN</td>\n",
       "      <td>NaN</td>\n",
       "      <td>7.656120e+16</td>\n",
       "    </tr>\n",
       "  </tbody>\n",
       "</table>\n",
       "</div>"
      ],
      "text/plain": [
       "   Unnamed: 0        username  hours  products  product_id  page_order  \\\n",
       "0           0     Chaos Syren    0.1      41.0      725280           0   \n",
       "1           1      ₮ʜᴇ Wᴀʀᴛᴏɴ   51.1     769.0      328100           0   \n",
       "2           2         hello?<   14.6       2.0      328100           1   \n",
       "3           3     Cyderine916    5.0      64.0       35140           0   \n",
       "4           4  DarklyThinking   16.6     577.0       35140           1   \n",
       "\n",
       "         date                                               text  \\\n",
       "0  2017-12-17  This would not be acceptable as an entertainme...   \n",
       "1  2017-12-27                         looks like a facebook game   \n",
       "2  2017-10-16                              Better than Minecraft   \n",
       "3  2018-01-04  I love and idolized Batman and this game is Ma...   \n",
       "4  2018-01-04  Still worth playing in 2018.\\nProbably my favo...   \n",
       "\n",
       "   early_access  page  found_funny               compensation       user_id  \n",
       "0         False     1          NaN                        NaN           NaN  \n",
       "1         False     1          NaN                        NaN           NaN  \n",
       "2         False     1          2.0  Product received for free           NaN  \n",
       "3         False     1          NaN                        NaN           NaN  \n",
       "4         False     1          NaN                        NaN  7.656120e+16  "
      ]
     },
     "execution_count": 5,
     "metadata": {},
     "output_type": "execute_result"
    }
   ],
   "source": [
    "data_reviews.head()"
   ]
  },
  {
   "cell_type": "markdown",
   "id": "ba265faf",
   "metadata": {},
   "source": [
    "### DESCRIPCIÓN DE FEATURES INCLUIDOS EN DATA_GAMES\n",
    "desarrollador: Creador del juego\n",
    "\n",
    "genres: Géneros, caracteristicas del juego\n",
    "\n",
    "app_name: Editor del juego\n",
    "\n",
    "title: Nombre del juego\n",
    "\n",
    "url: Dirección web donde encontrarlo\n",
    "\n",
    "release_date: Fecha de lanzamiento\n",
    "\n",
    "tags: Etiquetas relacionadas con el juego\n",
    "\n",
    "discount_price: Precio con descuento incluido\n",
    "\n",
    "reviews_url: Dirección web donde encontrar las reseñas sobre el juego\n",
    "\n",
    "specs: Especificaciones\n",
    "\n",
    "price: Precio sin descuento\n",
    "\n",
    "early_access: Si es True significa que el juego puede ser adquirido durante su etapa de desarrollo\n",
    "\n",
    "id: Identificacion númerica del juego publicado\n",
    "\n",
    "sentiment: Emoción promedio generada en los usuarios\n",
    "\n",
    "metascore: Puntaje promedio recibido por los usuarios"
   ]
  },
  {
   "cell_type": "code",
   "execution_count": 6,
   "id": "7b2ff24c",
   "metadata": {},
   "outputs": [
    {
     "data": {
      "text/html": [
       "<div>\n",
       "<style scoped>\n",
       "    .dataframe tbody tr th:only-of-type {\n",
       "        vertical-align: middle;\n",
       "    }\n",
       "\n",
       "    .dataframe tbody tr th {\n",
       "        vertical-align: top;\n",
       "    }\n",
       "\n",
       "    .dataframe thead th {\n",
       "        text-align: right;\n",
       "    }\n",
       "</style>\n",
       "<table border=\"1\" class=\"dataframe\">\n",
       "  <thead>\n",
       "    <tr style=\"text-align: right;\">\n",
       "      <th></th>\n",
       "      <th>publisher</th>\n",
       "      <th>genres</th>\n",
       "      <th>app_name</th>\n",
       "      <th>title</th>\n",
       "      <th>url</th>\n",
       "      <th>release_date</th>\n",
       "      <th>tags</th>\n",
       "      <th>discount_price</th>\n",
       "      <th>reviews_url</th>\n",
       "      <th>specs</th>\n",
       "      <th>price</th>\n",
       "      <th>early_access</th>\n",
       "      <th>id</th>\n",
       "      <th>developer</th>\n",
       "      <th>sentiment</th>\n",
       "      <th>metascore</th>\n",
       "    </tr>\n",
       "  </thead>\n",
       "  <tbody>\n",
       "    <tr>\n",
       "      <th>0</th>\n",
       "      <td>Kotoshiro</td>\n",
       "      <td>[Action, Casual, Indie, Simulation, Strategy]</td>\n",
       "      <td>Lost Summoner Kitty</td>\n",
       "      <td>Lost Summoner Kitty</td>\n",
       "      <td>http://store.steampowered.com/app/761140/Lost_...</td>\n",
       "      <td>2018-01-04</td>\n",
       "      <td>[Strategy, Action, Indie, Casual, Simulation]</td>\n",
       "      <td>4.49</td>\n",
       "      <td>http://steamcommunity.com/app/761140/reviews/?...</td>\n",
       "      <td>[Single-player]</td>\n",
       "      <td>4.99</td>\n",
       "      <td>False</td>\n",
       "      <td>761140</td>\n",
       "      <td>Kotoshiro</td>\n",
       "      <td>NaN</td>\n",
       "      <td>NaN</td>\n",
       "    </tr>\n",
       "    <tr>\n",
       "      <th>1</th>\n",
       "      <td>Making Fun, Inc.</td>\n",
       "      <td>[Free to Play, Indie, RPG, Strategy]</td>\n",
       "      <td>Ironbound</td>\n",
       "      <td>Ironbound</td>\n",
       "      <td>http://store.steampowered.com/app/643980/Ironb...</td>\n",
       "      <td>2018-01-04</td>\n",
       "      <td>[Free to Play, Strategy, Indie, RPG, Card Game...</td>\n",
       "      <td>NaN</td>\n",
       "      <td>http://steamcommunity.com/app/643980/reviews/?...</td>\n",
       "      <td>[Single-player, Multi-player, Online Multi-Pla...</td>\n",
       "      <td>Free To Play</td>\n",
       "      <td>False</td>\n",
       "      <td>643980</td>\n",
       "      <td>Secret Level SRL</td>\n",
       "      <td>Mostly Positive</td>\n",
       "      <td>NaN</td>\n",
       "    </tr>\n",
       "    <tr>\n",
       "      <th>2</th>\n",
       "      <td>Poolians.com</td>\n",
       "      <td>[Casual, Free to Play, Indie, Simulation, Sports]</td>\n",
       "      <td>Real Pool 3D - Poolians</td>\n",
       "      <td>Real Pool 3D - Poolians</td>\n",
       "      <td>http://store.steampowered.com/app/670290/Real_...</td>\n",
       "      <td>2017-07-24</td>\n",
       "      <td>[Free to Play, Simulation, Sports, Casual, Ind...</td>\n",
       "      <td>NaN</td>\n",
       "      <td>http://steamcommunity.com/app/670290/reviews/?...</td>\n",
       "      <td>[Single-player, Multi-player, Online Multi-Pla...</td>\n",
       "      <td>Free to Play</td>\n",
       "      <td>False</td>\n",
       "      <td>670290</td>\n",
       "      <td>Poolians.com</td>\n",
       "      <td>Mostly Positive</td>\n",
       "      <td>NaN</td>\n",
       "    </tr>\n",
       "    <tr>\n",
       "      <th>3</th>\n",
       "      <td>彼岸领域</td>\n",
       "      <td>[Action, Adventure, Casual]</td>\n",
       "      <td>弹炸人2222</td>\n",
       "      <td>弹炸人2222</td>\n",
       "      <td>http://store.steampowered.com/app/767400/2222/</td>\n",
       "      <td>2017-12-07</td>\n",
       "      <td>[Action, Adventure, Casual]</td>\n",
       "      <td>0.83</td>\n",
       "      <td>http://steamcommunity.com/app/767400/reviews/?...</td>\n",
       "      <td>[Single-player]</td>\n",
       "      <td>0.99</td>\n",
       "      <td>False</td>\n",
       "      <td>767400</td>\n",
       "      <td>彼岸领域</td>\n",
       "      <td>NaN</td>\n",
       "      <td>NaN</td>\n",
       "    </tr>\n",
       "    <tr>\n",
       "      <th>4</th>\n",
       "      <td>NaN</td>\n",
       "      <td>NaN</td>\n",
       "      <td>Log Challenge</td>\n",
       "      <td>NaN</td>\n",
       "      <td>http://store.steampowered.com/app/773570/Log_C...</td>\n",
       "      <td>NaN</td>\n",
       "      <td>[Action, Indie, Casual, Sports]</td>\n",
       "      <td>1.79</td>\n",
       "      <td>http://steamcommunity.com/app/773570/reviews/?...</td>\n",
       "      <td>[Single-player, Full controller support, HTC V...</td>\n",
       "      <td>2.99</td>\n",
       "      <td>False</td>\n",
       "      <td>773570</td>\n",
       "      <td>NaN</td>\n",
       "      <td>NaN</td>\n",
       "      <td>NaN</td>\n",
       "    </tr>\n",
       "  </tbody>\n",
       "</table>\n",
       "</div>"
      ],
      "text/plain": [
       "          publisher                                             genres  \\\n",
       "0         Kotoshiro      [Action, Casual, Indie, Simulation, Strategy]   \n",
       "1  Making Fun, Inc.               [Free to Play, Indie, RPG, Strategy]   \n",
       "2      Poolians.com  [Casual, Free to Play, Indie, Simulation, Sports]   \n",
       "3              彼岸领域                        [Action, Adventure, Casual]   \n",
       "4               NaN                                                NaN   \n",
       "\n",
       "                  app_name                    title  \\\n",
       "0      Lost Summoner Kitty      Lost Summoner Kitty   \n",
       "1                Ironbound                Ironbound   \n",
       "2  Real Pool 3D - Poolians  Real Pool 3D - Poolians   \n",
       "3                  弹炸人2222                  弹炸人2222   \n",
       "4            Log Challenge                      NaN   \n",
       "\n",
       "                                                 url release_date  \\\n",
       "0  http://store.steampowered.com/app/761140/Lost_...   2018-01-04   \n",
       "1  http://store.steampowered.com/app/643980/Ironb...   2018-01-04   \n",
       "2  http://store.steampowered.com/app/670290/Real_...   2017-07-24   \n",
       "3     http://store.steampowered.com/app/767400/2222/   2017-12-07   \n",
       "4  http://store.steampowered.com/app/773570/Log_C...          NaN   \n",
       "\n",
       "                                                tags  discount_price  \\\n",
       "0      [Strategy, Action, Indie, Casual, Simulation]            4.49   \n",
       "1  [Free to Play, Strategy, Indie, RPG, Card Game...             NaN   \n",
       "2  [Free to Play, Simulation, Sports, Casual, Ind...             NaN   \n",
       "3                        [Action, Adventure, Casual]            0.83   \n",
       "4                    [Action, Indie, Casual, Sports]            1.79   \n",
       "\n",
       "                                         reviews_url  \\\n",
       "0  http://steamcommunity.com/app/761140/reviews/?...   \n",
       "1  http://steamcommunity.com/app/643980/reviews/?...   \n",
       "2  http://steamcommunity.com/app/670290/reviews/?...   \n",
       "3  http://steamcommunity.com/app/767400/reviews/?...   \n",
       "4  http://steamcommunity.com/app/773570/reviews/?...   \n",
       "\n",
       "                                               specs         price  \\\n",
       "0                                    [Single-player]          4.99   \n",
       "1  [Single-player, Multi-player, Online Multi-Pla...  Free To Play   \n",
       "2  [Single-player, Multi-player, Online Multi-Pla...  Free to Play   \n",
       "3                                    [Single-player]          0.99   \n",
       "4  [Single-player, Full controller support, HTC V...          2.99   \n",
       "\n",
       "   early_access      id         developer        sentiment metascore  \n",
       "0         False  761140         Kotoshiro              NaN       NaN  \n",
       "1         False  643980  Secret Level SRL  Mostly Positive       NaN  \n",
       "2         False  670290      Poolians.com  Mostly Positive       NaN  \n",
       "3         False  767400              彼岸领域              NaN       NaN  \n",
       "4         False  773570               NaN              NaN       NaN  "
      ]
     },
     "execution_count": 6,
     "metadata": {},
     "output_type": "execute_result"
    }
   ],
   "source": [
    "data_games.head()"
   ]
  },
  {
   "cell_type": "markdown",
   "id": "114dd2d4",
   "metadata": {},
   "source": [
    "### Analisis exploratorio DATA_REVIEWS"
   ]
  },
  {
   "cell_type": "markdown",
   "id": "62e3154c",
   "metadata": {},
   "source": [
    "Vemos cantidad de filas, columns e informacion sobre cada feature"
   ]
  },
  {
   "cell_type": "code",
   "execution_count": 7,
   "id": "c5f13d22",
   "metadata": {},
   "outputs": [
    {
     "data": {
      "text/plain": [
       "(7793069, 13)"
      ]
     },
     "execution_count": 7,
     "metadata": {},
     "output_type": "execute_result"
    }
   ],
   "source": [
    "data_reviews.shape"
   ]
  },
  {
   "cell_type": "markdown",
   "id": "9f49d6ae",
   "metadata": {},
   "source": [
    "Data importante para definir los limites del analisis."
   ]
  },
  {
   "cell_type": "code",
   "execution_count": 8,
   "id": "4c486a79",
   "metadata": {},
   "outputs": [
    {
     "data": {
      "text/html": [
       "<div>\n",
       "<style scoped>\n",
       "    .dataframe tbody tr th:only-of-type {\n",
       "        vertical-align: middle;\n",
       "    }\n",
       "\n",
       "    .dataframe tbody tr th {\n",
       "        vertical-align: top;\n",
       "    }\n",
       "\n",
       "    .dataframe thead th {\n",
       "        text-align: right;\n",
       "    }\n",
       "</style>\n",
       "<table border=\"1\" class=\"dataframe\">\n",
       "  <thead>\n",
       "    <tr style=\"text-align: right;\">\n",
       "      <th></th>\n",
       "      <th>hours</th>\n",
       "      <th>products</th>\n",
       "    </tr>\n",
       "  </thead>\n",
       "  <tbody>\n",
       "    <tr>\n",
       "      <th>count</th>\n",
       "      <td>7766532.00</td>\n",
       "      <td>7778108.00</td>\n",
       "    </tr>\n",
       "    <tr>\n",
       "      <th>mean</th>\n",
       "      <td>111.84</td>\n",
       "      <td>236.48</td>\n",
       "    </tr>\n",
       "    <tr>\n",
       "      <th>std</th>\n",
       "      <td>392.86</td>\n",
       "      <td>485.79</td>\n",
       "    </tr>\n",
       "    <tr>\n",
       "      <th>min</th>\n",
       "      <td>0.00</td>\n",
       "      <td>1.00</td>\n",
       "    </tr>\n",
       "    <tr>\n",
       "      <th>25%</th>\n",
       "      <td>4.00</td>\n",
       "      <td>45.00</td>\n",
       "    </tr>\n",
       "    <tr>\n",
       "      <th>50%</th>\n",
       "      <td>15.30</td>\n",
       "      <td>110.00</td>\n",
       "    </tr>\n",
       "    <tr>\n",
       "      <th>75%</th>\n",
       "      <td>59.70</td>\n",
       "      <td>246.00</td>\n",
       "    </tr>\n",
       "    <tr>\n",
       "      <th>max</th>\n",
       "      <td>42100.70</td>\n",
       "      <td>18188.00</td>\n",
       "    </tr>\n",
       "  </tbody>\n",
       "</table>\n",
       "</div>"
      ],
      "text/plain": [
       "            hours    products\n",
       "count  7766532.00  7778108.00\n",
       "mean       111.84      236.48\n",
       "std        392.86      485.79\n",
       "min          0.00        1.00\n",
       "25%          4.00       45.00\n",
       "50%         15.30      110.00\n",
       "75%         59.70      246.00\n",
       "max      42100.70    18188.00"
      ]
     },
     "execution_count": 8,
     "metadata": {},
     "output_type": "execute_result"
    }
   ],
   "source": [
    "data_reviews.loc[:,['hours','products']].describe().round(2)"
   ]
  },
  {
   "cell_type": "code",
   "execution_count": 9,
   "id": "cf99ff6d",
   "metadata": {},
   "outputs": [
    {
     "name": "stdout",
     "output_type": "stream",
     "text": [
      "<class 'pandas.core.frame.DataFrame'>\n",
      "RangeIndex: 7793069 entries, 0 to 7793068\n",
      "Data columns (total 13 columns):\n",
      " #   Column        Dtype  \n",
      "---  ------        -----  \n",
      " 0   Unnamed: 0    int64  \n",
      " 1   username      object \n",
      " 2   hours         float64\n",
      " 3   products      float64\n",
      " 4   product_id    int64  \n",
      " 5   page_order    int64  \n",
      " 6   date          object \n",
      " 7   text          object \n",
      " 8   early_access  bool   \n",
      " 9   page          int64  \n",
      " 10  found_funny   float64\n",
      " 11  compensation  object \n",
      " 12  user_id       float64\n",
      "dtypes: bool(1), float64(4), int64(4), object(4)\n",
      "memory usage: 720.9+ MB\n"
     ]
    }
   ],
   "source": [
    "data_reviews.info()"
   ]
  },
  {
   "cell_type": "markdown",
   "id": "da8f81e5",
   "metadata": {},
   "source": [
    "Vemos los datos null"
   ]
  },
  {
   "cell_type": "code",
   "execution_count": 10,
   "id": "e9301d88",
   "metadata": {},
   "outputs": [
    {
     "data": {
      "text/plain": [
       "Unnamed: 0            0\n",
       "username            208\n",
       "hours             26537\n",
       "products          14961\n",
       "product_id            0\n",
       "page_order            0\n",
       "date                  0\n",
       "text              17972\n",
       "early_access          0\n",
       "page                  0\n",
       "found_funny     6592313\n",
       "compensation    7647446\n",
       "user_id         4616846\n",
       "dtype: int64"
      ]
     },
     "execution_count": 10,
     "metadata": {},
     "output_type": "execute_result"
    }
   ],
   "source": [
    "data_reviews.isna().sum()"
   ]
  },
  {
   "cell_type": "markdown",
   "id": "2b5ea0da",
   "metadata": {},
   "source": [
    "### De los DATOS analizados hay valores que no vamos a considerar, tales como:\n",
    "\n",
    "* Usuarios con menos de 15 horas jugadas (falta de expertise)\n",
    "\n",
    "* Usuarios con menos 30 juegos (falta de expertise)\n",
    "\n",
    "* Usuarios que jugaron mas de 100 horas a un juego (exceso, claramente el juego le gusta)\n",
    "\n",
    "* Usuarios que jugaron mas de 300 juegos. (es demasiado y se sale del perfil que queremos considerar)"
   ]
  },
  {
   "cell_type": "code",
   "execution_count": 11,
   "id": "4d4a15e5",
   "metadata": {},
   "outputs": [
    {
     "name": "stderr",
     "output_type": "stream",
     "text": [
      "<ipython-input-11-822659c5977a>:3: SettingWithCopyWarning: \n",
      "A value is trying to be set on a copy of a slice from a DataFrame\n",
      "\n",
      "See the caveats in the documentation: https://pandas.pydata.org/pandas-docs/stable/user_guide/indexing.html#returning-a-view-versus-a-copy\n",
      "  data_reviews3.dropna(subset=['text'], inplace=True)\n"
     ]
    }
   ],
   "source": [
    "data_reviews2=data_reviews[(data_reviews.products>15) & (data_reviews.products<300)]\n",
    "data_reviews3=data_reviews2[(data_reviews2.hours>10) & (data_reviews2.hours<100)]\n",
    "data_reviews3.dropna(subset=['text'], inplace=True)"
   ]
  },
  {
   "cell_type": "code",
   "execution_count": 12,
   "id": "1a10ff8b",
   "metadata": {},
   "outputs": [
    {
     "name": "stderr",
     "output_type": "stream",
     "text": [
      "C:\\Users\\Tati\\anaconda3\\lib\\site-packages\\pandas\\core\\frame.py:4308: SettingWithCopyWarning: \n",
      "A value is trying to be set on a copy of a slice from a DataFrame\n",
      "\n",
      "See the caveats in the documentation: https://pandas.pydata.org/pandas-docs/stable/user_guide/indexing.html#returning-a-view-versus-a-copy\n",
      "  return super().drop(\n"
     ]
    }
   ],
   "source": [
    "data_reviews3.drop(\"Unnamed: 0\", axis=1, inplace=True)"
   ]
  },
  {
   "cell_type": "code",
   "execution_count": 13,
   "id": "11ef1a8c",
   "metadata": {},
   "outputs": [
    {
     "data": {
      "text/html": [
       "<div>\n",
       "<style scoped>\n",
       "    .dataframe tbody tr th:only-of-type {\n",
       "        vertical-align: middle;\n",
       "    }\n",
       "\n",
       "    .dataframe tbody tr th {\n",
       "        vertical-align: top;\n",
       "    }\n",
       "\n",
       "    .dataframe thead th {\n",
       "        text-align: right;\n",
       "    }\n",
       "</style>\n",
       "<table border=\"1\" class=\"dataframe\">\n",
       "  <thead>\n",
       "    <tr style=\"text-align: right;\">\n",
       "      <th></th>\n",
       "      <th>username</th>\n",
       "      <th>hours</th>\n",
       "      <th>products</th>\n",
       "      <th>product_id</th>\n",
       "      <th>page_order</th>\n",
       "      <th>date</th>\n",
       "      <th>text</th>\n",
       "      <th>early_access</th>\n",
       "      <th>page</th>\n",
       "      <th>found_funny</th>\n",
       "      <th>compensation</th>\n",
       "      <th>user_id</th>\n",
       "    </tr>\n",
       "  </thead>\n",
       "  <tbody>\n",
       "    <tr>\n",
       "      <th>13</th>\n",
       "      <td>MR_SERENITY</td>\n",
       "      <td>14.8</td>\n",
       "      <td>147.0</td>\n",
       "      <td>35140</td>\n",
       "      <td>2</td>\n",
       "      <td>2018-01-03</td>\n",
       "      <td>aweosme game great story and some epic moments...</td>\n",
       "      <td>False</td>\n",
       "      <td>1</td>\n",
       "      <td>NaN</td>\n",
       "      <td>NaN</td>\n",
       "      <td>7.656120e+16</td>\n",
       "    </tr>\n",
       "    <tr>\n",
       "      <th>15</th>\n",
       "      <td>Duha Nubie</td>\n",
       "      <td>11.3</td>\n",
       "      <td>73.0</td>\n",
       "      <td>35140</td>\n",
       "      <td>4</td>\n",
       "      <td>2018-01-03</td>\n",
       "      <td>first debut feel sweet</td>\n",
       "      <td>False</td>\n",
       "      <td>1</td>\n",
       "      <td>NaN</td>\n",
       "      <td>NaN</td>\n",
       "      <td>NaN</td>\n",
       "    </tr>\n",
       "    <tr>\n",
       "      <th>16</th>\n",
       "      <td>The Undead StalkeR</td>\n",
       "      <td>17.0</td>\n",
       "      <td>87.0</td>\n",
       "      <td>35140</td>\n",
       "      <td>5</td>\n",
       "      <td>2018-01-03</td>\n",
       "      <td>9/10\\nEven after all these years. this game re...</td>\n",
       "      <td>False</td>\n",
       "      <td>1</td>\n",
       "      <td>NaN</td>\n",
       "      <td>NaN</td>\n",
       "      <td>7.656120e+16</td>\n",
       "    </tr>\n",
       "    <tr>\n",
       "      <th>32</th>\n",
       "      <td>Mono</td>\n",
       "      <td>14.1</td>\n",
       "      <td>54.0</td>\n",
       "      <td>506510</td>\n",
       "      <td>1</td>\n",
       "      <td>2017-12-27</td>\n",
       "      <td>A Charming game with colourful pixel graphics ...</td>\n",
       "      <td>False</td>\n",
       "      <td>1</td>\n",
       "      <td>NaN</td>\n",
       "      <td>NaN</td>\n",
       "      <td>7.656120e+16</td>\n",
       "    </tr>\n",
       "    <tr>\n",
       "      <th>39</th>\n",
       "      <td>xiodeni</td>\n",
       "      <td>18.4</td>\n",
       "      <td>18.0</td>\n",
       "      <td>35140</td>\n",
       "      <td>6</td>\n",
       "      <td>2018-01-03</td>\n",
       "      <td>I definitely recommend this game. I absolutely...</td>\n",
       "      <td>False</td>\n",
       "      <td>1</td>\n",
       "      <td>NaN</td>\n",
       "      <td>NaN</td>\n",
       "      <td>NaN</td>\n",
       "    </tr>\n",
       "    <tr>\n",
       "      <th>57</th>\n",
       "      <td>Uncle-Noob</td>\n",
       "      <td>24.7</td>\n",
       "      <td>37.0</td>\n",
       "      <td>350280</td>\n",
       "      <td>3</td>\n",
       "      <td>2018-01-04</td>\n",
       "      <td>I really like this game, but no one plays it. ...</td>\n",
       "      <td>False</td>\n",
       "      <td>1</td>\n",
       "      <td>NaN</td>\n",
       "      <td>NaN</td>\n",
       "      <td>NaN</td>\n",
       "    </tr>\n",
       "    <tr>\n",
       "      <th>71</th>\n",
       "      <td>CatCookieHearT</td>\n",
       "      <td>12.7</td>\n",
       "      <td>211.0</td>\n",
       "      <td>620900</td>\n",
       "      <td>4</td>\n",
       "      <td>2017-06-25</td>\n",
       "      <td>I really enjoy Witchinour.\\nThe dev says it co...</td>\n",
       "      <td>False</td>\n",
       "      <td>1</td>\n",
       "      <td>NaN</td>\n",
       "      <td>NaN</td>\n",
       "      <td>NaN</td>\n",
       "    </tr>\n",
       "    <tr>\n",
       "      <th>76</th>\n",
       "      <td>Aureus</td>\n",
       "      <td>13.2</td>\n",
       "      <td>260.0</td>\n",
       "      <td>506510</td>\n",
       "      <td>3</td>\n",
       "      <td>2017-12-26</td>\n",
       "      <td>Let's start with a very important statement: S...</td>\n",
       "      <td>False</td>\n",
       "      <td>1</td>\n",
       "      <td>NaN</td>\n",
       "      <td>NaN</td>\n",
       "      <td>NaN</td>\n",
       "    </tr>\n",
       "    <tr>\n",
       "      <th>83</th>\n",
       "      <td>WindySilver</td>\n",
       "      <td>11.2</td>\n",
       "      <td>75.0</td>\n",
       "      <td>431320</td>\n",
       "      <td>3</td>\n",
       "      <td>2016-06-04</td>\n",
       "      <td>Edit: Having a good laptop for gaming now, I'v...</td>\n",
       "      <td>False</td>\n",
       "      <td>1</td>\n",
       "      <td>NaN</td>\n",
       "      <td>NaN</td>\n",
       "      <td>NaN</td>\n",
       "    </tr>\n",
       "    <tr>\n",
       "      <th>89</th>\n",
       "      <td>Bushi Neko</td>\n",
       "      <td>10.7</td>\n",
       "      <td>266.0</td>\n",
       "      <td>450230</td>\n",
       "      <td>0</td>\n",
       "      <td>2017-01-25</td>\n",
       "      <td>It is worth watching. Its not a great film. Bu...</td>\n",
       "      <td>False</td>\n",
       "      <td>1</td>\n",
       "      <td>NaN</td>\n",
       "      <td>NaN</td>\n",
       "      <td>7.656120e+16</td>\n",
       "    </tr>\n",
       "  </tbody>\n",
       "</table>\n",
       "</div>"
      ],
      "text/plain": [
       "              username  hours  products  product_id  page_order        date  \\\n",
       "13         MR_SERENITY   14.8     147.0       35140           2  2018-01-03   \n",
       "15          Duha Nubie   11.3      73.0       35140           4  2018-01-03   \n",
       "16  The Undead StalkeR   17.0      87.0       35140           5  2018-01-03   \n",
       "32                Mono   14.1      54.0      506510           1  2017-12-27   \n",
       "39             xiodeni   18.4      18.0       35140           6  2018-01-03   \n",
       "57          Uncle-Noob   24.7      37.0      350280           3  2018-01-04   \n",
       "71      CatCookieHearT   12.7     211.0      620900           4  2017-06-25   \n",
       "76              Aureus   13.2     260.0      506510           3  2017-12-26   \n",
       "83         WindySilver   11.2      75.0      431320           3  2016-06-04   \n",
       "89          Bushi Neko   10.7     266.0      450230           0  2017-01-25   \n",
       "\n",
       "                                                 text  early_access  page  \\\n",
       "13  aweosme game great story and some epic moments...         False     1   \n",
       "15                             first debut feel sweet         False     1   \n",
       "16  9/10\\nEven after all these years. this game re...         False     1   \n",
       "32  A Charming game with colourful pixel graphics ...         False     1   \n",
       "39  I definitely recommend this game. I absolutely...         False     1   \n",
       "57  I really like this game, but no one plays it. ...         False     1   \n",
       "71  I really enjoy Witchinour.\\nThe dev says it co...         False     1   \n",
       "76  Let's start with a very important statement: S...         False     1   \n",
       "83  Edit: Having a good laptop for gaming now, I'v...         False     1   \n",
       "89  It is worth watching. Its not a great film. Bu...         False     1   \n",
       "\n",
       "    found_funny compensation       user_id  \n",
       "13          NaN          NaN  7.656120e+16  \n",
       "15          NaN          NaN           NaN  \n",
       "16          NaN          NaN  7.656120e+16  \n",
       "32          NaN          NaN  7.656120e+16  \n",
       "39          NaN          NaN           NaN  \n",
       "57          NaN          NaN           NaN  \n",
       "71          NaN          NaN           NaN  \n",
       "76          NaN          NaN           NaN  \n",
       "83          NaN          NaN           NaN  \n",
       "89          NaN          NaN  7.656120e+16  "
      ]
     },
     "execution_count": 13,
     "metadata": {},
     "output_type": "execute_result"
    }
   ],
   "source": [
    "data_reviews3.head(10)"
   ]
  },
  {
   "cell_type": "markdown",
   "id": "5486529b",
   "metadata": {},
   "source": [
    "Elimino aquellas instancias que no tengan usuario"
   ]
  },
  {
   "cell_type": "code",
   "execution_count": 14,
   "id": "234fd680",
   "metadata": {},
   "outputs": [
    {
     "data": {
      "text/plain": [
       "Int64Index([  53571,   96741,  109254,  183052,  183278,  315025,  388952,\n",
       "             526859,  585920, 1056356, 1265221, 1289050, 1296109, 1321800,\n",
       "            1442146, 1594921, 1662447, 1749124, 1826167, 1926598, 1972583,\n",
       "            2550455, 2602005, 2672712, 2795698, 2826345, 2963381, 3008927,\n",
       "            3069909, 3132685, 3132717, 3635616, 3689605, 3751220, 3751330,\n",
       "            3775656, 4031389, 4032479, 4207936, 4263776, 4514493, 4805527,\n",
       "            4873973, 4908449, 4913661, 5036211, 5103461, 5613932, 5686884,\n",
       "            5839502, 5852441, 5913225, 6007473, 6118408, 6142129, 6224486,\n",
       "            6224686, 6264615, 6388567, 6567550, 6582504, 6582599, 6582667,\n",
       "            6743015, 6979869, 6980071, 7063376, 7132887, 7133046, 7436788,\n",
       "            7450747],\n",
       "           dtype='int64')"
      ]
     },
     "execution_count": 14,
     "metadata": {},
     "output_type": "execute_result"
    }
   ],
   "source": [
    "empty_indexs=data_reviews3[data_reviews3.username.isna()].index\n",
    "empty_indexs"
   ]
  },
  {
   "cell_type": "code",
   "execution_count": 15,
   "id": "973d87f0",
   "metadata": {},
   "outputs": [
    {
     "name": "stderr",
     "output_type": "stream",
     "text": [
      "C:\\Users\\Tati\\anaconda3\\lib\\site-packages\\pandas\\core\\frame.py:4308: SettingWithCopyWarning: \n",
      "A value is trying to be set on a copy of a slice from a DataFrame\n",
      "\n",
      "See the caveats in the documentation: https://pandas.pydata.org/pandas-docs/stable/user_guide/indexing.html#returning-a-view-versus-a-copy\n",
      "  return super().drop(\n"
     ]
    }
   ],
   "source": [
    "data_reviews3.drop(empty_indexs,inplace=True)"
   ]
  },
  {
   "cell_type": "code",
   "execution_count": 16,
   "id": "32dd94c9",
   "metadata": {},
   "outputs": [
    {
     "data": {
      "text/plain": [
       "0"
      ]
     },
     "execution_count": 16,
     "metadata": {},
     "output_type": "execute_result"
    }
   ],
   "source": [
    "data_reviews3.hours.isna().sum()"
   ]
  },
  {
   "cell_type": "markdown",
   "id": "162bc971",
   "metadata": {},
   "source": [
    "Filtro aquellas columnas que no considero utiles para le analisis"
   ]
  },
  {
   "cell_type": "code",
   "execution_count": 17,
   "id": "f0a42483",
   "metadata": {},
   "outputs": [
    {
     "data": {
      "text/html": [
       "<div>\n",
       "<style scoped>\n",
       "    .dataframe tbody tr th:only-of-type {\n",
       "        vertical-align: middle;\n",
       "    }\n",
       "\n",
       "    .dataframe tbody tr th {\n",
       "        vertical-align: top;\n",
       "    }\n",
       "\n",
       "    .dataframe thead th {\n",
       "        text-align: right;\n",
       "    }\n",
       "</style>\n",
       "<table border=\"1\" class=\"dataframe\">\n",
       "  <thead>\n",
       "    <tr style=\"text-align: right;\">\n",
       "      <th></th>\n",
       "      <th>username</th>\n",
       "      <th>hours</th>\n",
       "      <th>products</th>\n",
       "      <th>product_id</th>\n",
       "      <th>text</th>\n",
       "    </tr>\n",
       "  </thead>\n",
       "  <tbody>\n",
       "    <tr>\n",
       "      <th>13</th>\n",
       "      <td>MR_SERENITY</td>\n",
       "      <td>14.8</td>\n",
       "      <td>147.0</td>\n",
       "      <td>35140</td>\n",
       "      <td>aweosme game great story and some epic moments...</td>\n",
       "    </tr>\n",
       "    <tr>\n",
       "      <th>15</th>\n",
       "      <td>Duha Nubie</td>\n",
       "      <td>11.3</td>\n",
       "      <td>73.0</td>\n",
       "      <td>35140</td>\n",
       "      <td>first debut feel sweet</td>\n",
       "    </tr>\n",
       "    <tr>\n",
       "      <th>16</th>\n",
       "      <td>The Undead StalkeR</td>\n",
       "      <td>17.0</td>\n",
       "      <td>87.0</td>\n",
       "      <td>35140</td>\n",
       "      <td>9/10\\nEven after all these years. this game re...</td>\n",
       "    </tr>\n",
       "    <tr>\n",
       "      <th>32</th>\n",
       "      <td>Mono</td>\n",
       "      <td>14.1</td>\n",
       "      <td>54.0</td>\n",
       "      <td>506510</td>\n",
       "      <td>A Charming game with colourful pixel graphics ...</td>\n",
       "    </tr>\n",
       "    <tr>\n",
       "      <th>39</th>\n",
       "      <td>xiodeni</td>\n",
       "      <td>18.4</td>\n",
       "      <td>18.0</td>\n",
       "      <td>35140</td>\n",
       "      <td>I definitely recommend this game. I absolutely...</td>\n",
       "    </tr>\n",
       "    <tr>\n",
       "      <th>...</th>\n",
       "      <td>...</td>\n",
       "      <td>...</td>\n",
       "      <td>...</td>\n",
       "      <td>...</td>\n",
       "      <td>...</td>\n",
       "    </tr>\n",
       "    <tr>\n",
       "      <th>7793031</th>\n",
       "      <td>LostWhispers</td>\n",
       "      <td>92.1</td>\n",
       "      <td>150.0</td>\n",
       "      <td>252490</td>\n",
       "      <td>WARNING!!  you will burn way to many hours in ...</td>\n",
       "    </tr>\n",
       "    <tr>\n",
       "      <th>7793032</th>\n",
       "      <td>Rick Sanchez C-132</td>\n",
       "      <td>63.0</td>\n",
       "      <td>37.0</td>\n",
       "      <td>252490</td>\n",
       "      <td>This game is already one of the most fun and i...</td>\n",
       "    </tr>\n",
       "    <tr>\n",
       "      <th>7793049</th>\n",
       "      <td>Crit_Magnet_</td>\n",
       "      <td>16.0</td>\n",
       "      <td>192.0</td>\n",
       "      <td>252490</td>\n",
       "      <td>So much fun, once you get set up!</td>\n",
       "    </tr>\n",
       "    <tr>\n",
       "      <th>7793061</th>\n",
       "      <td>worldoftanks</td>\n",
       "      <td>82.2</td>\n",
       "      <td>91.0</td>\n",
       "      <td>252490</td>\n",
       "      <td>O yes good waiting long time</td>\n",
       "    </tr>\n",
       "    <tr>\n",
       "      <th>7793066</th>\n",
       "      <td>Deez Knees</td>\n",
       "      <td>50.5</td>\n",
       "      <td>288.0</td>\n",
       "      <td>252490</td>\n",
       "      <td>gr8 game 10/10 wud buy agen</td>\n",
       "    </tr>\n",
       "  </tbody>\n",
       "</table>\n",
       "<p>2313124 rows × 5 columns</p>\n",
       "</div>"
      ],
      "text/plain": [
       "                   username  hours  products  product_id  \\\n",
       "13              MR_SERENITY   14.8     147.0       35140   \n",
       "15               Duha Nubie   11.3      73.0       35140   \n",
       "16       The Undead StalkeR   17.0      87.0       35140   \n",
       "32                     Mono   14.1      54.0      506510   \n",
       "39                  xiodeni   18.4      18.0       35140   \n",
       "...                     ...    ...       ...         ...   \n",
       "7793031        LostWhispers   92.1     150.0      252490   \n",
       "7793032  Rick Sanchez C-132   63.0      37.0      252490   \n",
       "7793049        Crit_Magnet_   16.0     192.0      252490   \n",
       "7793061        worldoftanks   82.2      91.0      252490   \n",
       "7793066          Deez Knees   50.5     288.0      252490   \n",
       "\n",
       "                                                      text  \n",
       "13       aweosme game great story and some epic moments...  \n",
       "15                                  first debut feel sweet  \n",
       "16       9/10\\nEven after all these years. this game re...  \n",
       "32       A Charming game with colourful pixel graphics ...  \n",
       "39       I definitely recommend this game. I absolutely...  \n",
       "...                                                    ...  \n",
       "7793031  WARNING!!  you will burn way to many hours in ...  \n",
       "7793032  This game is already one of the most fun and i...  \n",
       "7793049                  So much fun, once you get set up!  \n",
       "7793061                       O yes good waiting long time  \n",
       "7793066                        gr8 game 10/10 wud buy agen  \n",
       "\n",
       "[2313124 rows x 5 columns]"
      ]
     },
     "execution_count": 17,
     "metadata": {},
     "output_type": "execute_result"
    }
   ],
   "source": [
    "data_reviews4=data_reviews3.loc[:,['username','hours','products','product_id','text']]\n",
    "data_reviews4.isna().sum()\n",
    "del data_reviews3\n",
    "data_reviews4"
   ]
  },
  {
   "cell_type": "markdown",
   "id": "bea873e5",
   "metadata": {},
   "source": [
    "Realizamos algunos graficos para ver la distribucion de algunas variables"
   ]
  },
  {
   "cell_type": "code",
   "execution_count": 18,
   "id": "52addc76",
   "metadata": {},
   "outputs": [
    {
     "data": {
      "text/plain": [
       "<AxesSubplot:xlabel='products'>"
      ]
     },
     "execution_count": 18,
     "metadata": {},
     "output_type": "execute_result"
    },
    {
     "data": {
      "image/png": "[encoded data removed]",
      "text/plain": [
       "<Figure size 432x288 with 1 Axes>"
      ]
     },
     "metadata": {},
     "output_type": "display_data"
    }
   ],
   "source": [
    "sns.boxplot(x = data_reviews4.products)"
   ]
  },
  {
   "cell_type": "code",
   "execution_count": 19,
   "id": "f917ff52",
   "metadata": {},
   "outputs": [
    {
     "data": {
      "text/plain": [
       "<AxesSubplot:xlabel='hours'>"
      ]
     },
     "execution_count": 19,
     "metadata": {},
     "output_type": "execute_result"
    },
    {
     "data": {
      "image/png": "[encoded data removed]",
      "text/plain": [
       "<Figure size 432x288 with 1 Axes>"
      ]
     },
     "metadata": {},
     "output_type": "display_data"
    }
   ],
   "source": [
    "sns.boxplot(x = data_reviews4.hours)"
   ]
  },
  {
   "cell_type": "code",
   "execution_count": 20,
   "id": "aadd7924",
   "metadata": {},
   "outputs": [
    {
     "data": {
      "text/plain": [
       "13         147.0\n",
       "15          73.0\n",
       "16          87.0\n",
       "32          54.0\n",
       "39          18.0\n",
       "           ...  \n",
       "7793031    150.0\n",
       "7793032     37.0\n",
       "7793049    192.0\n",
       "7793061     91.0\n",
       "7793066    288.0\n",
       "Name: products, Length: 2313124, dtype: float64"
      ]
     },
     "execution_count": 20,
     "metadata": {},
     "output_type": "execute_result"
    }
   ],
   "source": [
    "data_reviews4.products"
   ]
  },
  {
   "cell_type": "code",
   "execution_count": 21,
   "id": "065e869b",
   "metadata": {},
   "outputs": [
    {
     "data": {
      "text/plain": [
       "<AxesSubplot:xlabel='products', ylabel='Density'>"
      ]
     },
     "execution_count": 21,
     "metadata": {},
     "output_type": "execute_result"
    },
    {
     "data": {
      "image/png": "[encoded data removed]",
      "text/plain": [
       "<Figure size 432x288 with 1 Axes>"
      ]
     },
     "metadata": {},
     "output_type": "display_data"
    }
   ],
   "source": [
    "sns.kdeplot(data=data_reviews4.products)"
   ]
  },
  {
   "cell_type": "code",
   "execution_count": 22,
   "id": "7ea0cdfe",
   "metadata": {},
   "outputs": [
    {
     "data": {
      "text/plain": [
       "<AxesSubplot:xlabel='hours', ylabel='Density'>"
      ]
     },
     "execution_count": 22,
     "metadata": {},
     "output_type": "execute_result"
    },
    {
     "data": {
      "image/png": "[encoded data removed]",
      "text/plain": [
       "<Figure size 432x288 with 1 Axes>"
      ]
     },
     "metadata": {},
     "output_type": "display_data"
    }
   ],
   "source": [
    "sns.kdeplot(data=data_reviews4.hours)"
   ]
  },
  {
   "cell_type": "markdown",
   "id": "dc524a5d",
   "metadata": {},
   "source": [
    "#### Para completar el analisis exploratorio de data_reviews:"
   ]
  },
  {
   "cell_type": "code",
   "execution_count": 23,
   "id": "f3c8cd5d",
   "metadata": {},
   "outputs": [
    {
     "data": {
      "text/plain": [
       "2.147308813427155"
      ]
     },
     "execution_count": 23,
     "metadata": {},
     "output_type": "execute_result"
    }
   ],
   "source": [
    "data_reviews4.username.value_counts().mean()"
   ]
  },
  {
   "cell_type": "markdown",
   "id": "428c9791",
   "metadata": {},
   "source": [
    "1. Que cantidad de reviews deja en promedio cada usuario?"
   ]
  },
  {
   "cell_type": "code",
   "execution_count": 24,
   "id": "58701e90",
   "metadata": {},
   "outputs": [
    {
     "name": "stdout",
     "output_type": "stream",
     "text": [
      "El promedio de reviews por usuario es:2.147308813427155\n"
     ]
    }
   ],
   "source": [
    "reviews_prom=data_reviews4.username.value_counts().mean()\n",
    "print(f'El promedio de reviews por usuario es:{reviews_prom}')"
   ]
  },
  {
   "cell_type": "markdown",
   "id": "f996280a",
   "metadata": {},
   "source": [
    "2. Dentro de los limites establecidos, cuales son los usuarios que mas reviews dejaron?\n"
   ]
  },
  {
   "cell_type": "code",
   "execution_count": 25,
   "id": "7c076b9d",
   "metadata": {},
   "outputs": [
    {
     "data": {
      "text/plain": [
       "['Alex',\n",
       " '123',\n",
       " 'Chris',\n",
       " 'Red',\n",
       " 'Ghost',\n",
       " 'Sam',\n",
       " 'Jack',\n",
       " 'Nick',\n",
       " 'Dan',\n",
       " 'Tom',\n",
       " 'Matt',\n",
       " 'Wolf',\n",
       " 'John',\n",
       " 'ุ',\n",
       " 'James']"
      ]
     },
     "execution_count": 25,
     "metadata": {},
     "output_type": "execute_result"
    }
   ],
   "source": [
    "data_reviews4['username'].value_counts()[0:15].index.tolist()"
   ]
  },
  {
   "cell_type": "markdown",
   "id": "43e87cc1",
   "metadata": {},
   "source": [
    "3. Dentro de los limites establecidos, cuales son los usuarios que menos reviews dejaron?"
   ]
  },
  {
   "cell_type": "code",
   "execution_count": 26,
   "id": "6fae8141",
   "metadata": {},
   "outputs": [
    {
     "data": {
      "text/plain": [
       "['★L o n e W o l f★',\n",
       " 'Castrophe',\n",
       " 'Fontacorn',\n",
       " 'Al-Qaida Kairaa Huoraa',\n",
       " 'RacketRab',\n",
       " 'quakerninja',\n",
       " 'Iceknight',\n",
       " 'kingofmaxwell',\n",
       " 'Killa Kumar',\n",
       " 'snowbentley',\n",
       " 'DaNNy DeViTo',\n",
       " 'Games UK',\n",
       " '†Licht Kreis†',\n",
       " 'JuleMorino']"
      ]
     },
     "execution_count": 26,
     "metadata": {},
     "output_type": "execute_result"
    }
   ],
   "source": [
    "data_reviews4['username'].value_counts()[-15:-1].index.tolist()"
   ]
  },
  {
   "cell_type": "markdown",
   "id": "a10e6cfd",
   "metadata": {},
   "source": [
    "4. Cual es el juego que mas reviews tuvo? cual el que menos reviews tuvo?"
   ]
  },
  {
   "cell_type": "code",
   "execution_count": 27,
   "id": "4a6b352b",
   "metadata": {},
   "outputs": [
    {
     "data": {
      "text/plain": [
       "0    391540\n",
       "dtype: int64"
      ]
     },
     "execution_count": 27,
     "metadata": {},
     "output_type": "execute_result"
    }
   ],
   "source": [
    "data_reviews4.product_id.mode()"
   ]
  },
  {
   "cell_type": "code",
   "execution_count": 28,
   "id": "aa817412",
   "metadata": {},
   "outputs": [
    {
     "data": {
      "text/plain": [
       "count    1.077220e+06\n",
       "mean     2.147309e+00\n",
       "std      3.932663e+00\n",
       "min      1.000000e+00\n",
       "25%      1.000000e+00\n",
       "50%      1.000000e+00\n",
       "75%      2.000000e+00\n",
       "max      5.750000e+02\n",
       "Name: username, dtype: float64"
      ]
     },
     "execution_count": 28,
     "metadata": {},
     "output_type": "execute_result"
    }
   ],
   "source": [
    "data_reviews4.username.value_counts().describe()"
   ]
  },
  {
   "cell_type": "code",
   "execution_count": 29,
   "id": "71086f62",
   "metadata": {},
   "outputs": [
    {
     "data": {
      "text/plain": [
       "(0.0, 10.0)"
      ]
     },
     "execution_count": 29,
     "metadata": {},
     "output_type": "execute_result"
    },
    {
     "data": {
      "image/png": "[encoded data removed]",
      "text/plain": [
       "<Figure size 720x360 with 1 Axes>"
      ]
     },
     "metadata": {},
     "output_type": "display_data"
    }
   ],
   "source": [
    "plt.figure(figsize=(10, 5))\n",
    "ax = sns.boxplot(x=data_reviews4.username.value_counts())\n",
    "ax.set_xlim([0,10])"
   ]
  },
  {
   "cell_type": "markdown",
   "id": "fc5a1ba2",
   "metadata": {},
   "source": [
    "A continuación determino por medio de TextBlob, la polaridad de un review analizando la variable Text.\n",
    "La Polaridad es un número décimal que oscila entre -1 y 1, donde 1 significa que el comentario transmite un sentimiento positivo y, -1 un sentimiento negativo"
   ]
  },
  {
   "cell_type": "code",
   "execution_count": 30,
   "id": "c3e44ee6",
   "metadata": {},
   "outputs": [
    {
     "data": {
      "text/plain": [
       "2313124"
      ]
     },
     "execution_count": 30,
     "metadata": {},
     "output_type": "execute_result"
    }
   ],
   "source": [
    "len(data_reviews4.text)"
   ]
  },
  {
   "cell_type": "code",
   "execution_count": null,
   "id": "5ba5ef0d",
   "metadata": {},
   "outputs": [],
   "source": [
    "polarity_list=[]\n",
    "exceptions=[]\n",
    "for i in range(len(data_reviews4.text)):\n",
    "    frase=TextBlob(data_reviews4.text.iloc[i])\n",
    "    polarity=frase.sentiment.polarity\n",
    "    polarity_list.append(polarity)"
   ]
  },
  {
   "cell_type": "code",
   "execution_count": null,
   "id": "b813323f",
   "metadata": {},
   "outputs": [],
   "source": [
    "len(exceptions)"
   ]
  },
  {
   "cell_type": "code",
   "execution_count": null,
   "id": "cfec289f",
   "metadata": {},
   "outputs": [],
   "source": [
    "data_reviews4['Polarity']=pd.Series(polarity_list)"
   ]
  },
  {
   "cell_type": "code",
   "execution_count": null,
   "id": "19ff02f2",
   "metadata": {},
   "outputs": [],
   "source": [
    "data_reviews4.head()"
   ]
  },
  {
   "cell_type": "code",
   "execution_count": null,
   "id": "0dfe1fd2",
   "metadata": {},
   "outputs": [],
   "source": [
    "correlation=data_reviews4.loc[:,['hours','products','Polarity']].corr()\n",
    "correlation"
   ]
  },
  {
   "cell_type": "code",
   "execution_count": null,
   "id": "3652ff74",
   "metadata": {},
   "outputs": [],
   "source": [
    "sns.heatmap(correlation, cbar = True,annot = True)"
   ]
  },
  {
   "cell_type": "markdown",
   "id": "88964110",
   "metadata": {},
   "source": [
    "No existe ninguna relación linal entre un comentario positivo dejado por el usuario a un juego y la cantidad de horas jugadas, ni otros juegos probados. Concluimos en que la relación es bivariable y por ende, no apreciable en el heatmap."
   ]
  },
  {
   "cell_type": "code",
   "execution_count": null,
   "id": "5276213f",
   "metadata": {},
   "outputs": [],
   "source": [
    "data_reviews4.loc[:,['hours','products','Polarity']].describe().round(2)"
   ]
  },
  {
   "cell_type": "markdown",
   "id": "a3d7aa7a",
   "metadata": {},
   "source": [
    "Criterio determinacion de Score: \n",
    "* Si la cantidad de productos está dentro de los valores del primer cuartil y la cantidad de horas jugadas es mayor al 75% de los valores de la muestra---> Calificación positiva (corroborado con el indice de polaridad)\n",
    "\n",
    "* Si la cantidad de productos es mayor al 75% de los valores contenidos en la muestra y la cantidad de horas jugadas está dentro del primer 25% de los valores---> Calificación negativa (corroborado con el índice de polaridad)"
   ]
  },
  {
   "cell_type": "code",
   "execution_count": null,
   "id": "9ba51d9b",
   "metadata": {},
   "outputs": [],
   "source": [
    "positive_mask= (data_reviews4.hours>48) & (data_reviews4.products<55)"
   ]
  },
  {
   "cell_type": "code",
   "execution_count": null,
   "id": "a5750697",
   "metadata": {},
   "outputs": [],
   "source": [
    "data_reviews4[positive_mask].Polarity.mean()"
   ]
  },
  {
   "cell_type": "markdown",
   "id": "dbcbaeef",
   "metadata": {},
   "source": [
    "El resultado obtenido es considerado suficiente para determinar como minimo de polaridad con la que un usuario calificaría como positivo al juego ya que, 0.13 es mayor al promedio de polaridad y, dado que la polaridad es un número que oscila entre -1 y 1 siendo -1 negativo y 1 positvo, el valor obtenido se encuentra mas cercano al extremo positivo que al extremo negativo"
   ]
  },
  {
   "cell_type": "code",
   "execution_count": null,
   "id": "93b1448b",
   "metadata": {},
   "outputs": [],
   "source": [
    "negative_mask=(data_reviews4.hours<16) & (data_reviews4.products>166)\n",
    "data_reviews4[negative_mask].head()"
   ]
  },
  {
   "cell_type": "code",
   "execution_count": null,
   "id": "5e7aa3b5",
   "metadata": {},
   "outputs": [],
   "source": [
    "data_reviews4[negative_mask].Polarity.mean()"
   ]
  },
  {
   "cell_type": "code",
   "execution_count": null,
   "id": "2089156d",
   "metadata": {},
   "outputs": [],
   "source": [
    "undefined_mask=(data_reviews4.Polarity<0.13117870234093953) & (data_reviews4.Polarity>0.0567740481140225)"
   ]
  },
  {
   "cell_type": "code",
   "execution_count": null,
   "id": "4762b219",
   "metadata": {},
   "outputs": [],
   "source": [
    "data_reviews4[positive_mask]"
   ]
  },
  {
   "cell_type": "code",
   "execution_count": null,
   "id": "7f11bbd7",
   "metadata": {},
   "outputs": [],
   "source": [
    "calif_pos=data_reviews4[positive_mask].shape[0]/data_reviews4.shape[0]\n",
    "print(f'El {calif_pos*100}% de las reviews son positivas')"
   ]
  },
  {
   "cell_type": "code",
   "execution_count": null,
   "id": "a77d7086",
   "metadata": {},
   "outputs": [],
   "source": [
    "def conditions(data):\n",
    "    if (data['Polarity'] > 0.13175401820734617):\n",
    "        return 3\n",
    "    elif (data['Polarity'] < 0.11806886378669548):\n",
    "        return 1\n",
    "    else:\n",
    "        return 2"
   ]
  },
  {
   "cell_type": "code",
   "execution_count": null,
   "id": "d18ea96f",
   "metadata": {},
   "outputs": [],
   "source": [
    "data_reviews4['Calif'] = data_reviews4.apply(conditions, axis=1)"
   ]
  },
  {
   "cell_type": "code",
   "execution_count": null,
   "id": "96216ffa",
   "metadata": {},
   "outputs": [],
   "source": [
    "data_reviews4.head()"
   ]
  },
  {
   "cell_type": "markdown",
   "id": "8bbb1148",
   "metadata": {},
   "source": [
    "### Analisis exploratorio Data Games"
   ]
  },
  {
   "cell_type": "code",
   "execution_count": null,
   "id": "9bd7dbc8",
   "metadata": {},
   "outputs": [],
   "source": [
    "data_games['title'].unique().shape"
   ]
  },
  {
   "cell_type": "code",
   "execution_count": null,
   "id": "5d947f30",
   "metadata": {},
   "outputs": [],
   "source": [
    "data_games[data_games.id==\"35140\"]"
   ]
  },
  {
   "cell_type": "code",
   "execution_count": null,
   "id": "10b5ab2f",
   "metadata": {},
   "outputs": [],
   "source": [
    "data_games.drop_duplicates(subset =\"id\",\n",
    "                     keep = False, inplace = True)"
   ]
  },
  {
   "cell_type": "code",
   "execution_count": null,
   "id": "a6983456",
   "metadata": {},
   "outputs": [],
   "source": [
    "data_games[data_games.id==\"35140\"]"
   ]
  },
  {
   "cell_type": "code",
   "execution_count": null,
   "id": "212dcad9",
   "metadata": {},
   "outputs": [],
   "source": [
    "data_games.shape"
   ]
  },
  {
   "cell_type": "code",
   "execution_count": null,
   "id": "77f9ab1f",
   "metadata": {},
   "outputs": [],
   "source": [
    "data_games.id.unique().size"
   ]
  },
  {
   "cell_type": "code",
   "execution_count": null,
   "id": "5547f36a",
   "metadata": {},
   "outputs": [],
   "source": [
    "url_splited = data_games.url.str.split('/')\n",
    "url_splited"
   ]
  },
  {
   "cell_type": "code",
   "execution_count": null,
   "id": "af76f190",
   "metadata": {},
   "outputs": [],
   "source": [
    "resultados = []\n",
    "data_games[\"URL_NAME\"] = \"\"\n",
    "k=0\n",
    "m = 5\n",
    "for i in url_splited:\n",
    "    data_games[\"URL_NAME\"].iloc[k] = i[m]\n",
    "    resultados.append(i[5])\n",
    "    k=k+1\n",
    "k=0"
   ]
  },
  {
   "cell_type": "code",
   "execution_count": null,
   "id": "7cd80e1c",
   "metadata": {},
   "outputs": [],
   "source": [
    "resultados"
   ]
  },
  {
   "cell_type": "code",
   "execution_count": null,
   "id": "c3252c02",
   "metadata": {},
   "outputs": [],
   "source": [
    "##data_games.drop(['title'],inplace=True,axis=1)"
   ]
  },
  {
   "cell_type": "code",
   "execution_count": null,
   "id": "75a39c32",
   "metadata": {},
   "outputs": [],
   "source": [
    "data_games[data_games.id==\"35140\"]"
   ]
  },
  {
   "cell_type": "code",
   "execution_count": null,
   "id": "26d2977d",
   "metadata": {},
   "outputs": [],
   "source": [
    "data_games.early_access.value_counts()\n",
    "print( f'El {1947/(30184+1947)*100}% son juegos que permiten ser probados antes de su lanzamiento ')"
   ]
  },
  {
   "cell_type": "code",
   "execution_count": null,
   "id": "194c893f",
   "metadata": {},
   "outputs": [],
   "source": [
    "data_games['price'].fillna('null',inplace=True)"
   ]
  },
  {
   "cell_type": "code",
   "execution_count": null,
   "id": "9b316dee",
   "metadata": {},
   "outputs": [],
   "source": [
    "data_games['price_']=data_games['price']"
   ]
  },
  {
   "cell_type": "code",
   "execution_count": null,
   "id": "839922ee",
   "metadata": {},
   "outputs": [],
   "source": [
    "data_games['price_']"
   ]
  },
  {
   "cell_type": "code",
   "execution_count": null,
   "id": "5c03f8bc",
   "metadata": {},
   "outputs": [],
   "source": [
    "k=0\n",
    "for y in data_games.price_:\n",
    "    if(isinstance(y, str)):\n",
    "        if (y.find('Starting')!=-1):\n",
    "            data_games.price_[k]=y.split(' ')[-1]\n",
    "            data_games.price_[k]= float(data_games.price_[k].replace(\"$\", \"\"))\n",
    "        else:\n",
    "            data_games.price_[k]=0.00\n",
    "    k=k+1"
   ]
  },
  {
   "cell_type": "code",
   "execution_count": null,
   "id": "fbe14bfe",
   "metadata": {},
   "outputs": [],
   "source": [
    "data_games.price_.unique()"
   ]
  },
  {
   "cell_type": "code",
   "execution_count": null,
   "id": "4444763d",
   "metadata": {},
   "outputs": [],
   "source": [
    "data_games2=data_games.loc[:,['URL_NAME','id']]"
   ]
  },
  {
   "cell_type": "code",
   "execution_count": null,
   "id": "67b23cac",
   "metadata": {},
   "outputs": [],
   "source": [
    "type(data_games.price_.iloc[14])"
   ]
  },
  {
   "cell_type": "code",
   "execution_count": null,
   "id": "ec0206b0",
   "metadata": {
    "scrolled": true
   },
   "outputs": [],
   "source": [
    "#plt.figure(figsize=(20, 10))\n",
    "#sns.boxplot(x=data_games.precie_[data_games.precie_<399])"
   ]
  },
  {
   "cell_type": "code",
   "execution_count": null,
   "id": "c68e74f3",
   "metadata": {},
   "outputs": [],
   "source": [
    "data_games2.id=pd.to_numeric(data_games2.id,downcast='integer')"
   ]
  },
  {
   "cell_type": "code",
   "execution_count": null,
   "id": "dea67f6d",
   "metadata": {},
   "outputs": [],
   "source": [
    "data_games2[data_games2.id==35140]"
   ]
  },
  {
   "cell_type": "code",
   "execution_count": null,
   "id": "9c07c31f",
   "metadata": {},
   "outputs": [],
   "source": [
    "data_reviews4"
   ]
  },
  {
   "cell_type": "code",
   "execution_count": null,
   "id": "4b680583",
   "metadata": {},
   "outputs": [],
   "source": [
    "data_to_export = pd.merge(data_reviews4, data_games2, left_on='product_id', right_on='id', how='left').drop('id', axis=1)"
   ]
  },
  {
   "cell_type": "code",
   "execution_count": null,
   "id": "05ceb45c",
   "metadata": {},
   "outputs": [],
   "source": [
    "#data_to_export.drop(['text'],inplace=True,axis=1)\n",
    "#data_to_export"
   ]
  },
  {
   "cell_type": "code",
   "execution_count": null,
   "id": "8f57d631",
   "metadata": {},
   "outputs": [],
   "source": [
    "data_to_export.to_csv('C:\\\\Users\\\\Tati\\\\source\\\\repos\\\\data_full.csv')"
   ]
  },
  {
   "cell_type": "code",
   "execution_count": null,
   "id": "de26ac6f",
   "metadata": {},
   "outputs": [],
   "source": []
  },
  {
   "cell_type": "code",
   "execution_count": null,
   "id": "8e3ee256",
   "metadata": {},
   "outputs": [],
   "source": []
  },
  {
   "cell_type": "code",
   "execution_count": null,
   "id": "97d4ad77",
   "metadata": {},
   "outputs": [],
   "source": []
  }
 ],
 "metadata": {
  "kernelspec": {
   "display_name": "Python 3",
   "language": "python",
   "name": "python3"
  },
  "language_info": {
   "codemirror_mode": {
    "name": "ipython",
    "version": 3
   },
   "file_extension": ".py",
   "mimetype": "text/x-python",
   "name": "python",
   "nbconvert_exporter": "python",
   "pygments_lexer": "ipython3",
   "version": "3.8.8"
  }
 },
 "nbformat": 4,
 "nbformat_minor": 5
}
