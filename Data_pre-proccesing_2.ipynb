{
 "cells": [
  {
   "cell_type": "code",
   "execution_count": 1,
   "id": "13730686",
   "metadata": {},
   "outputs": [],
   "source": [
    "import numpy as np\n",
    "import pandas as pd\n",
    "import matplotlib.pyplot as plt\n",
    "import seaborn as sns\n",
    "sns.set()\n",
    "from nltk.tokenize import sent_tokenize, word_tokenize\n",
    "from textblob import TextBlob\n",
    "from surprise import SVD\n",
    "from surprise import Dataset\n",
    "from surprise import Reader\n",
    "from surprise.model_selection import train_test_split\n",
    "import gc\n",
    "from surprise import accuracy\n",
    "from surprise.model_selection import cross_validate\n",
    "from surprise.model_selection import GridSearchCV"
   ]
  },
  {
   "cell_type": "code",
   "execution_count": 2,
   "id": "c45a95d3",
   "metadata": {},
   "outputs": [],
   "source": [
    "data_reviews= pd.read_csv('C:\\\\Users\\\\Tati\\\\source\\\\repos\\\\acamica-datasets\\\\data_reviews.csv')"
   ]
  },
  {
   "cell_type": "code",
   "execution_count": 93,
   "id": "513ee252",
   "metadata": {},
   "outputs": [],
   "source": [
    "import gzip\n",
    "import pandas as pd\n",
    "\n",
    "def parse(path):\n",
    "    g = gzip.open(path, 'r')\n",
    "    for l in g:\n",
    "        yield eval(l)\n",
    "        \n",
    "data_games = []\n",
    "for l in parse('C:\\\\Users\\\\Tati\\\\source\\\\repos\\\\acamica-datasets\\steam_games.json.gz'):\n",
    "        data_games.append(l)"
   ]
  },
  {
   "cell_type": "code",
   "execution_count": 94,
   "id": "c31d99a7",
   "metadata": {},
   "outputs": [],
   "source": [
    "data_games = pd.DataFrame(data_games)"
   ]
  },
  {
   "cell_type": "markdown",
   "id": "a36729ed",
   "metadata": {},
   "source": [
    "### DESCRIPCIÓN DE FEATURES DATA_REVIEWS\n",
    "username: Nombre del usuario que ha dejado la reseña\n",
    "\n",
    "hours: Cantidad de horas jugadas (acumuladas) en el juego al cual se le ha hecho la reseña\n",
    "\n",
    "products: Cantidad de otros juegos probados\n",
    "\n",
    "product_id: Identificacion númerica del juego reseñado\n",
    "\n",
    "page_order: Número de página en el cual se encuentra el juego dentro de la plataforma\n",
    "\n",
    "date: Fecha en la cual se ha creado la reseña\n",
    "\n",
    "text: Comentario sobre el juego\n",
    "\n",
    "early_access: Si es True significa que el juego puede ser adquirido durante su etapa de desarrollo\n",
    "\n",
    "page: No es interpretable\n",
    "\n",
    "user_id: Identificacion númerica del usuario creador de la reseña\n",
    "\n",
    "found_funny: Cantidad de calificaciones positivas creadas por otros usuarios\n",
    "\n",
    "compensation: Variable no interpretable dada la cantidad de valores nulos contenidos en ella"
   ]
  },
  {
   "cell_type": "code",
   "execution_count": 5,
   "id": "7d5d5581",
   "metadata": {},
   "outputs": [
    {
     "data": {
      "text/html": [
       "<div>\n",
       "<style scoped>\n",
       "    .dataframe tbody tr th:only-of-type {\n",
       "        vertical-align: middle;\n",
       "    }\n",
       "\n",
       "    .dataframe tbody tr th {\n",
       "        vertical-align: top;\n",
       "    }\n",
       "\n",
       "    .dataframe thead th {\n",
       "        text-align: right;\n",
       "    }\n",
       "</style>\n",
       "<table border=\"1\" class=\"dataframe\">\n",
       "  <thead>\n",
       "    <tr style=\"text-align: right;\">\n",
       "      <th></th>\n",
       "      <th>Unnamed: 0</th>\n",
       "      <th>username</th>\n",
       "      <th>hours</th>\n",
       "      <th>products</th>\n",
       "      <th>product_id</th>\n",
       "      <th>page_order</th>\n",
       "      <th>date</th>\n",
       "      <th>text</th>\n",
       "      <th>early_access</th>\n",
       "      <th>page</th>\n",
       "      <th>found_funny</th>\n",
       "      <th>compensation</th>\n",
       "      <th>user_id</th>\n",
       "    </tr>\n",
       "  </thead>\n",
       "  <tbody>\n",
       "    <tr>\n",
       "      <th>0</th>\n",
       "      <td>0</td>\n",
       "      <td>Chaos Syren</td>\n",
       "      <td>0.1</td>\n",
       "      <td>41.0</td>\n",
       "      <td>725280</td>\n",
       "      <td>0</td>\n",
       "      <td>2017-12-17</td>\n",
       "      <td>This would not be acceptable as an entertainme...</td>\n",
       "      <td>False</td>\n",
       "      <td>1</td>\n",
       "      <td>NaN</td>\n",
       "      <td>NaN</td>\n",
       "      <td>NaN</td>\n",
       "    </tr>\n",
       "    <tr>\n",
       "      <th>1</th>\n",
       "      <td>1</td>\n",
       "      <td>₮ʜᴇ Wᴀʀᴛᴏɴ</td>\n",
       "      <td>51.1</td>\n",
       "      <td>769.0</td>\n",
       "      <td>328100</td>\n",
       "      <td>0</td>\n",
       "      <td>2017-12-27</td>\n",
       "      <td>looks like a facebook game</td>\n",
       "      <td>False</td>\n",
       "      <td>1</td>\n",
       "      <td>NaN</td>\n",
       "      <td>NaN</td>\n",
       "      <td>NaN</td>\n",
       "    </tr>\n",
       "    <tr>\n",
       "      <th>2</th>\n",
       "      <td>2</td>\n",
       "      <td>hello?&lt;</td>\n",
       "      <td>14.6</td>\n",
       "      <td>2.0</td>\n",
       "      <td>328100</td>\n",
       "      <td>1</td>\n",
       "      <td>2017-10-16</td>\n",
       "      <td>Better than Minecraft</td>\n",
       "      <td>False</td>\n",
       "      <td>1</td>\n",
       "      <td>2.0</td>\n",
       "      <td>Product received for free</td>\n",
       "      <td>NaN</td>\n",
       "    </tr>\n",
       "    <tr>\n",
       "      <th>3</th>\n",
       "      <td>3</td>\n",
       "      <td>Cyderine916</td>\n",
       "      <td>5.0</td>\n",
       "      <td>64.0</td>\n",
       "      <td>35140</td>\n",
       "      <td>0</td>\n",
       "      <td>2018-01-04</td>\n",
       "      <td>I love and idolized Batman and this game is Ma...</td>\n",
       "      <td>False</td>\n",
       "      <td>1</td>\n",
       "      <td>NaN</td>\n",
       "      <td>NaN</td>\n",
       "      <td>NaN</td>\n",
       "    </tr>\n",
       "    <tr>\n",
       "      <th>4</th>\n",
       "      <td>4</td>\n",
       "      <td>DarklyThinking</td>\n",
       "      <td>16.6</td>\n",
       "      <td>577.0</td>\n",
       "      <td>35140</td>\n",
       "      <td>1</td>\n",
       "      <td>2018-01-04</td>\n",
       "      <td>Still worth playing in 2018.\\nProbably my favo...</td>\n",
       "      <td>False</td>\n",
       "      <td>1</td>\n",
       "      <td>NaN</td>\n",
       "      <td>NaN</td>\n",
       "      <td>7.656120e+16</td>\n",
       "    </tr>\n",
       "  </tbody>\n",
       "</table>\n",
       "</div>"
      ],
      "text/plain": [
       "   Unnamed: 0        username  hours  products  product_id  page_order  \\\n",
       "0           0     Chaos Syren    0.1      41.0      725280           0   \n",
       "1           1      ₮ʜᴇ Wᴀʀᴛᴏɴ   51.1     769.0      328100           0   \n",
       "2           2         hello?<   14.6       2.0      328100           1   \n",
       "3           3     Cyderine916    5.0      64.0       35140           0   \n",
       "4           4  DarklyThinking   16.6     577.0       35140           1   \n",
       "\n",
       "         date                                               text  \\\n",
       "0  2017-12-17  This would not be acceptable as an entertainme...   \n",
       "1  2017-12-27                         looks like a facebook game   \n",
       "2  2017-10-16                              Better than Minecraft   \n",
       "3  2018-01-04  I love and idolized Batman and this game is Ma...   \n",
       "4  2018-01-04  Still worth playing in 2018.\\nProbably my favo...   \n",
       "\n",
       "   early_access  page  found_funny               compensation       user_id  \n",
       "0         False     1          NaN                        NaN           NaN  \n",
       "1         False     1          NaN                        NaN           NaN  \n",
       "2         False     1          2.0  Product received for free           NaN  \n",
       "3         False     1          NaN                        NaN           NaN  \n",
       "4         False     1          NaN                        NaN  7.656120e+16  "
      ]
     },
     "execution_count": 5,
     "metadata": {},
     "output_type": "execute_result"
    }
   ],
   "source": [
    "data_reviews.head()"
   ]
  },
  {
   "cell_type": "markdown",
   "id": "ba265faf",
   "metadata": {},
   "source": [
    "### DESCRIPCIÓN DE FEATURES INCLUIDOS EN DATA_GAMES\n",
    "desarrollador: Creador del juego\n",
    "\n",
    "genres: Géneros, caracteristicas del juego\n",
    "\n",
    "app_name: Editor del juego\n",
    "\n",
    "title: Nombre del juego\n",
    "\n",
    "url: Dirección web donde encontrarlo\n",
    "\n",
    "release_date: Fecha de lanzamiento\n",
    "\n",
    "tags: Etiquetas relacionadas con el juego\n",
    "\n",
    "discount_price: Precio con descuento incluido\n",
    "\n",
    "reviews_url: Dirección web donde encontrar las reseñas sobre el juego\n",
    "\n",
    "specs: Especificaciones\n",
    "\n",
    "price: Precio sin descuento\n",
    "\n",
    "early_access: Si es True significa que el juego puede ser adquirido durante su etapa de desarrollo\n",
    "\n",
    "id: Identificacion númerica del juego publicado\n",
    "\n",
    "sentiment: Emoción promedio generada en los usuarios\n",
    "\n",
    "metascore: Puntaje promedio recibido por los usuarios"
   ]
  },
  {
   "cell_type": "code",
   "execution_count": 6,
   "id": "7b2ff24c",
   "metadata": {},
   "outputs": [
    {
     "data": {
      "text/html": [
       "<div>\n",
       "<style scoped>\n",
       "    .dataframe tbody tr th:only-of-type {\n",
       "        vertical-align: middle;\n",
       "    }\n",
       "\n",
       "    .dataframe tbody tr th {\n",
       "        vertical-align: top;\n",
       "    }\n",
       "\n",
       "    .dataframe thead th {\n",
       "        text-align: right;\n",
       "    }\n",
       "</style>\n",
       "<table border=\"1\" class=\"dataframe\">\n",
       "  <thead>\n",
       "    <tr style=\"text-align: right;\">\n",
       "      <th></th>\n",
       "      <th>publisher</th>\n",
       "      <th>genres</th>\n",
       "      <th>app_name</th>\n",
       "      <th>title</th>\n",
       "      <th>url</th>\n",
       "      <th>release_date</th>\n",
       "      <th>tags</th>\n",
       "      <th>discount_price</th>\n",
       "      <th>reviews_url</th>\n",
       "      <th>specs</th>\n",
       "      <th>price</th>\n",
       "      <th>early_access</th>\n",
       "      <th>id</th>\n",
       "      <th>developer</th>\n",
       "      <th>sentiment</th>\n",
       "      <th>metascore</th>\n",
       "    </tr>\n",
       "  </thead>\n",
       "  <tbody>\n",
       "    <tr>\n",
       "      <th>0</th>\n",
       "      <td>Kotoshiro</td>\n",
       "      <td>[Action, Casual, Indie, Simulation, Strategy]</td>\n",
       "      <td>Lost Summoner Kitty</td>\n",
       "      <td>Lost Summoner Kitty</td>\n",
       "      <td>http://store.steampowered.com/app/761140/Lost_...</td>\n",
       "      <td>2018-01-04</td>\n",
       "      <td>[Strategy, Action, Indie, Casual, Simulation]</td>\n",
       "      <td>4.49</td>\n",
       "      <td>http://steamcommunity.com/app/761140/reviews/?...</td>\n",
       "      <td>[Single-player]</td>\n",
       "      <td>4.99</td>\n",
       "      <td>False</td>\n",
       "      <td>761140</td>\n",
       "      <td>Kotoshiro</td>\n",
       "      <td>NaN</td>\n",
       "      <td>NaN</td>\n",
       "    </tr>\n",
       "    <tr>\n",
       "      <th>1</th>\n",
       "      <td>Making Fun, Inc.</td>\n",
       "      <td>[Free to Play, Indie, RPG, Strategy]</td>\n",
       "      <td>Ironbound</td>\n",
       "      <td>Ironbound</td>\n",
       "      <td>http://store.steampowered.com/app/643980/Ironb...</td>\n",
       "      <td>2018-01-04</td>\n",
       "      <td>[Free to Play, Strategy, Indie, RPG, Card Game...</td>\n",
       "      <td>NaN</td>\n",
       "      <td>http://steamcommunity.com/app/643980/reviews/?...</td>\n",
       "      <td>[Single-player, Multi-player, Online Multi-Pla...</td>\n",
       "      <td>Free To Play</td>\n",
       "      <td>False</td>\n",
       "      <td>643980</td>\n",
       "      <td>Secret Level SRL</td>\n",
       "      <td>Mostly Positive</td>\n",
       "      <td>NaN</td>\n",
       "    </tr>\n",
       "    <tr>\n",
       "      <th>2</th>\n",
       "      <td>Poolians.com</td>\n",
       "      <td>[Casual, Free to Play, Indie, Simulation, Sports]</td>\n",
       "      <td>Real Pool 3D - Poolians</td>\n",
       "      <td>Real Pool 3D - Poolians</td>\n",
       "      <td>http://store.steampowered.com/app/670290/Real_...</td>\n",
       "      <td>2017-07-24</td>\n",
       "      <td>[Free to Play, Simulation, Sports, Casual, Ind...</td>\n",
       "      <td>NaN</td>\n",
       "      <td>http://steamcommunity.com/app/670290/reviews/?...</td>\n",
       "      <td>[Single-player, Multi-player, Online Multi-Pla...</td>\n",
       "      <td>Free to Play</td>\n",
       "      <td>False</td>\n",
       "      <td>670290</td>\n",
       "      <td>Poolians.com</td>\n",
       "      <td>Mostly Positive</td>\n",
       "      <td>NaN</td>\n",
       "    </tr>\n",
       "    <tr>\n",
       "      <th>3</th>\n",
       "      <td>彼岸领域</td>\n",
       "      <td>[Action, Adventure, Casual]</td>\n",
       "      <td>弹炸人2222</td>\n",
       "      <td>弹炸人2222</td>\n",
       "      <td>http://store.steampowered.com/app/767400/2222/</td>\n",
       "      <td>2017-12-07</td>\n",
       "      <td>[Action, Adventure, Casual]</td>\n",
       "      <td>0.83</td>\n",
       "      <td>http://steamcommunity.com/app/767400/reviews/?...</td>\n",
       "      <td>[Single-player]</td>\n",
       "      <td>0.99</td>\n",
       "      <td>False</td>\n",
       "      <td>767400</td>\n",
       "      <td>彼岸领域</td>\n",
       "      <td>NaN</td>\n",
       "      <td>NaN</td>\n",
       "    </tr>\n",
       "    <tr>\n",
       "      <th>4</th>\n",
       "      <td>NaN</td>\n",
       "      <td>NaN</td>\n",
       "      <td>Log Challenge</td>\n",
       "      <td>NaN</td>\n",
       "      <td>http://store.steampowered.com/app/773570/Log_C...</td>\n",
       "      <td>NaN</td>\n",
       "      <td>[Action, Indie, Casual, Sports]</td>\n",
       "      <td>1.79</td>\n",
       "      <td>http://steamcommunity.com/app/773570/reviews/?...</td>\n",
       "      <td>[Single-player, Full controller support, HTC V...</td>\n",
       "      <td>2.99</td>\n",
       "      <td>False</td>\n",
       "      <td>773570</td>\n",
       "      <td>NaN</td>\n",
       "      <td>NaN</td>\n",
       "      <td>NaN</td>\n",
       "    </tr>\n",
       "  </tbody>\n",
       "</table>\n",
       "</div>"
      ],
      "text/plain": [
       "          publisher                                             genres  \\\n",
       "0         Kotoshiro      [Action, Casual, Indie, Simulation, Strategy]   \n",
       "1  Making Fun, Inc.               [Free to Play, Indie, RPG, Strategy]   \n",
       "2      Poolians.com  [Casual, Free to Play, Indie, Simulation, Sports]   \n",
       "3              彼岸领域                        [Action, Adventure, Casual]   \n",
       "4               NaN                                                NaN   \n",
       "\n",
       "                  app_name                    title  \\\n",
       "0      Lost Summoner Kitty      Lost Summoner Kitty   \n",
       "1                Ironbound                Ironbound   \n",
       "2  Real Pool 3D - Poolians  Real Pool 3D - Poolians   \n",
       "3                  弹炸人2222                  弹炸人2222   \n",
       "4            Log Challenge                      NaN   \n",
       "\n",
       "                                                 url release_date  \\\n",
       "0  http://store.steampowered.com/app/761140/Lost_...   2018-01-04   \n",
       "1  http://store.steampowered.com/app/643980/Ironb...   2018-01-04   \n",
       "2  http://store.steampowered.com/app/670290/Real_...   2017-07-24   \n",
       "3     http://store.steampowered.com/app/767400/2222/   2017-12-07   \n",
       "4  http://store.steampowered.com/app/773570/Log_C...          NaN   \n",
       "\n",
       "                                                tags  discount_price  \\\n",
       "0      [Strategy, Action, Indie, Casual, Simulation]            4.49   \n",
       "1  [Free to Play, Strategy, Indie, RPG, Card Game...             NaN   \n",
       "2  [Free to Play, Simulation, Sports, Casual, Ind...             NaN   \n",
       "3                        [Action, Adventure, Casual]            0.83   \n",
       "4                    [Action, Indie, Casual, Sports]            1.79   \n",
       "\n",
       "                                         reviews_url  \\\n",
       "0  http://steamcommunity.com/app/761140/reviews/?...   \n",
       "1  http://steamcommunity.com/app/643980/reviews/?...   \n",
       "2  http://steamcommunity.com/app/670290/reviews/?...   \n",
       "3  http://steamcommunity.com/app/767400/reviews/?...   \n",
       "4  http://steamcommunity.com/app/773570/reviews/?...   \n",
       "\n",
       "                                               specs         price  \\\n",
       "0                                    [Single-player]          4.99   \n",
       "1  [Single-player, Multi-player, Online Multi-Pla...  Free To Play   \n",
       "2  [Single-player, Multi-player, Online Multi-Pla...  Free to Play   \n",
       "3                                    [Single-player]          0.99   \n",
       "4  [Single-player, Full controller support, HTC V...          2.99   \n",
       "\n",
       "   early_access      id         developer        sentiment metascore  \n",
       "0         False  761140         Kotoshiro              NaN       NaN  \n",
       "1         False  643980  Secret Level SRL  Mostly Positive       NaN  \n",
       "2         False  670290      Poolians.com  Mostly Positive       NaN  \n",
       "3         False  767400              彼岸领域              NaN       NaN  \n",
       "4         False  773570               NaN              NaN       NaN  "
      ]
     },
     "execution_count": 6,
     "metadata": {},
     "output_type": "execute_result"
    }
   ],
   "source": [
    "data_games.head()"
   ]
  },
  {
   "cell_type": "markdown",
   "id": "114dd2d4",
   "metadata": {},
   "source": [
    "### Analisis exploratorio DATA_REVIEWS"
   ]
  },
  {
   "cell_type": "markdown",
   "id": "62e3154c",
   "metadata": {},
   "source": [
    "Vemos cantidad de filas, columns e informacion sobre cada feature"
   ]
  },
  {
   "cell_type": "code",
   "execution_count": 7,
   "id": "c5f13d22",
   "metadata": {},
   "outputs": [
    {
     "data": {
      "text/plain": [
       "(7793069, 13)"
      ]
     },
     "execution_count": 7,
     "metadata": {},
     "output_type": "execute_result"
    }
   ],
   "source": [
    "data_reviews.shape"
   ]
  },
  {
   "cell_type": "markdown",
   "id": "9f49d6ae",
   "metadata": {},
   "source": [
    "Data importante para definir los limites del analisis."
   ]
  },
  {
   "cell_type": "code",
   "execution_count": 8,
   "id": "4c486a79",
   "metadata": {},
   "outputs": [
    {
     "data": {
      "text/html": [
       "<div>\n",
       "<style scoped>\n",
       "    .dataframe tbody tr th:only-of-type {\n",
       "        vertical-align: middle;\n",
       "    }\n",
       "\n",
       "    .dataframe tbody tr th {\n",
       "        vertical-align: top;\n",
       "    }\n",
       "\n",
       "    .dataframe thead th {\n",
       "        text-align: right;\n",
       "    }\n",
       "</style>\n",
       "<table border=\"1\" class=\"dataframe\">\n",
       "  <thead>\n",
       "    <tr style=\"text-align: right;\">\n",
       "      <th></th>\n",
       "      <th>hours</th>\n",
       "      <th>products</th>\n",
       "    </tr>\n",
       "  </thead>\n",
       "  <tbody>\n",
       "    <tr>\n",
       "      <th>count</th>\n",
       "      <td>7766532.00</td>\n",
       "      <td>7778108.00</td>\n",
       "    </tr>\n",
       "    <tr>\n",
       "      <th>mean</th>\n",
       "      <td>111.84</td>\n",
       "      <td>236.48</td>\n",
       "    </tr>\n",
       "    <tr>\n",
       "      <th>std</th>\n",
       "      <td>392.86</td>\n",
       "      <td>485.79</td>\n",
       "    </tr>\n",
       "    <tr>\n",
       "      <th>min</th>\n",
       "      <td>0.00</td>\n",
       "      <td>1.00</td>\n",
       "    </tr>\n",
       "    <tr>\n",
       "      <th>25%</th>\n",
       "      <td>4.00</td>\n",
       "      <td>45.00</td>\n",
       "    </tr>\n",
       "    <tr>\n",
       "      <th>50%</th>\n",
       "      <td>15.30</td>\n",
       "      <td>110.00</td>\n",
       "    </tr>\n",
       "    <tr>\n",
       "      <th>75%</th>\n",
       "      <td>59.70</td>\n",
       "      <td>246.00</td>\n",
       "    </tr>\n",
       "    <tr>\n",
       "      <th>max</th>\n",
       "      <td>42100.70</td>\n",
       "      <td>18188.00</td>\n",
       "    </tr>\n",
       "  </tbody>\n",
       "</table>\n",
       "</div>"
      ],
      "text/plain": [
       "            hours    products\n",
       "count  7766532.00  7778108.00\n",
       "mean       111.84      236.48\n",
       "std        392.86      485.79\n",
       "min          0.00        1.00\n",
       "25%          4.00       45.00\n",
       "50%         15.30      110.00\n",
       "75%         59.70      246.00\n",
       "max      42100.70    18188.00"
      ]
     },
     "execution_count": 8,
     "metadata": {},
     "output_type": "execute_result"
    }
   ],
   "source": [
    "data_reviews.loc[:,['hours','products']].describe().round(2)"
   ]
  },
  {
   "cell_type": "code",
   "execution_count": 9,
   "id": "cf99ff6d",
   "metadata": {},
   "outputs": [
    {
     "name": "stdout",
     "output_type": "stream",
     "text": [
      "<class 'pandas.core.frame.DataFrame'>\n",
      "RangeIndex: 7793069 entries, 0 to 7793068\n",
      "Data columns (total 13 columns):\n",
      " #   Column        Dtype  \n",
      "---  ------        -----  \n",
      " 0   Unnamed: 0    int64  \n",
      " 1   username      object \n",
      " 2   hours         float64\n",
      " 3   products      float64\n",
      " 4   product_id    int64  \n",
      " 5   page_order    int64  \n",
      " 6   date          object \n",
      " 7   text          object \n",
      " 8   early_access  bool   \n",
      " 9   page          int64  \n",
      " 10  found_funny   float64\n",
      " 11  compensation  object \n",
      " 12  user_id       float64\n",
      "dtypes: bool(1), float64(4), int64(4), object(4)\n",
      "memory usage: 720.9+ MB\n"
     ]
    }
   ],
   "source": [
    "data_reviews.info()"
   ]
  },
  {
   "cell_type": "markdown",
   "id": "da8f81e5",
   "metadata": {},
   "source": [
    "Vemos los datos null"
   ]
  },
  {
   "cell_type": "code",
   "execution_count": 10,
   "id": "e9301d88",
   "metadata": {},
   "outputs": [
    {
     "data": {
      "text/plain": [
       "Unnamed: 0            0\n",
       "username            208\n",
       "hours             26537\n",
       "products          14961\n",
       "product_id            0\n",
       "page_order            0\n",
       "date                  0\n",
       "text              17972\n",
       "early_access          0\n",
       "page                  0\n",
       "found_funny     6592313\n",
       "compensation    7647446\n",
       "user_id         4616846\n",
       "dtype: int64"
      ]
     },
     "execution_count": 10,
     "metadata": {},
     "output_type": "execute_result"
    }
   ],
   "source": [
    "data_reviews.isna().sum()"
   ]
  },
  {
   "cell_type": "markdown",
   "id": "2b5ea0da",
   "metadata": {},
   "source": [
    "### De los DATOS analizados hay valores que no vamos a considerar, tales como:\n",
    "\n",
    "* Usuarios con menos de 15 horas jugadas (falta de expertise)\n",
    "\n",
    "* Usuarios con menos 30 juegos (falta de expertise)\n",
    "\n",
    "* Usuarios que jugaron mas de 100 horas a un juego (exceso, claramente el juego le gusta)\n",
    "\n",
    "* Usuarios que jugaron mas de 300 juegos. (es demasiado y se sale del perfil que queremos considerar)"
   ]
  },
  {
   "cell_type": "code",
   "execution_count": 11,
   "id": "4d4a15e5",
   "metadata": {},
   "outputs": [],
   "source": [
    "data_reviews2=data_reviews[(data_reviews.products>15) & (data_reviews.products<30)]\n",
    "data_reviews3=data_reviews2[(data_reviews2.hours>10) & (data_reviews2.hours<100)]\n",
    "del data_reviews"
   ]
  },
  {
   "cell_type": "code",
   "execution_count": 12,
   "id": "11ef1a8c",
   "metadata": {},
   "outputs": [
    {
     "data": {
      "text/html": [
       "<div>\n",
       "<style scoped>\n",
       "    .dataframe tbody tr th:only-of-type {\n",
       "        vertical-align: middle;\n",
       "    }\n",
       "\n",
       "    .dataframe tbody tr th {\n",
       "        vertical-align: top;\n",
       "    }\n",
       "\n",
       "    .dataframe thead th {\n",
       "        text-align: right;\n",
       "    }\n",
       "</style>\n",
       "<table border=\"1\" class=\"dataframe\">\n",
       "  <thead>\n",
       "    <tr style=\"text-align: right;\">\n",
       "      <th></th>\n",
       "      <th>Unnamed: 0</th>\n",
       "      <th>username</th>\n",
       "      <th>hours</th>\n",
       "      <th>products</th>\n",
       "      <th>product_id</th>\n",
       "      <th>page_order</th>\n",
       "      <th>date</th>\n",
       "      <th>text</th>\n",
       "      <th>early_access</th>\n",
       "      <th>page</th>\n",
       "      <th>found_funny</th>\n",
       "      <th>compensation</th>\n",
       "      <th>user_id</th>\n",
       "    </tr>\n",
       "  </thead>\n",
       "  <tbody>\n",
       "    <tr>\n",
       "      <th>39</th>\n",
       "      <td>39</td>\n",
       "      <td>xiodeni</td>\n",
       "      <td>18.4</td>\n",
       "      <td>18.0</td>\n",
       "      <td>35140</td>\n",
       "      <td>6</td>\n",
       "      <td>2018-01-03</td>\n",
       "      <td>I definitely recommend this game. I absolutely...</td>\n",
       "      <td>False</td>\n",
       "      <td>1</td>\n",
       "      <td>NaN</td>\n",
       "      <td>NaN</td>\n",
       "      <td>NaN</td>\n",
       "    </tr>\n",
       "    <tr>\n",
       "      <th>130</th>\n",
       "      <td>130</td>\n",
       "      <td>Sir Dan the Super Chivalrous</td>\n",
       "      <td>27.0</td>\n",
       "      <td>16.0</td>\n",
       "      <td>506510</td>\n",
       "      <td>5</td>\n",
       "      <td>2017-12-19</td>\n",
       "      <td>is more than a love letter to SNES era RPGS. T...</td>\n",
       "      <td>False</td>\n",
       "      <td>1</td>\n",
       "      <td>NaN</td>\n",
       "      <td>NaN</td>\n",
       "      <td>NaN</td>\n",
       "    </tr>\n",
       "    <tr>\n",
       "      <th>195</th>\n",
       "      <td>195</td>\n",
       "      <td>Keymasher</td>\n",
       "      <td>22.8</td>\n",
       "      <td>18.0</td>\n",
       "      <td>35140</td>\n",
       "      <td>8</td>\n",
       "      <td>2018-01-01</td>\n",
       "      <td>I always loved the Batman: Arkham games so I w...</td>\n",
       "      <td>False</td>\n",
       "      <td>2</td>\n",
       "      <td>NaN</td>\n",
       "      <td>NaN</td>\n",
       "      <td>7.656120e+16</td>\n",
       "    </tr>\n",
       "    <tr>\n",
       "      <th>217</th>\n",
       "      <td>217</td>\n",
       "      <td>dogminster</td>\n",
       "      <td>24.6</td>\n",
       "      <td>20.0</td>\n",
       "      <td>506510</td>\n",
       "      <td>0</td>\n",
       "      <td>2017-11-23</td>\n",
       "      <td>Just finished playing through and had blast. O...</td>\n",
       "      <td>False</td>\n",
       "      <td>2</td>\n",
       "      <td>NaN</td>\n",
       "      <td>NaN</td>\n",
       "      <td>7.656120e+16</td>\n",
       "    </tr>\n",
       "    <tr>\n",
       "      <th>334</th>\n",
       "      <td>334</td>\n",
       "      <td>baconn07</td>\n",
       "      <td>18.1</td>\n",
       "      <td>29.0</td>\n",
       "      <td>35140</td>\n",
       "      <td>2</td>\n",
       "      <td>2017-12-31</td>\n",
       "      <td>Its great even though its  8 years</td>\n",
       "      <td>False</td>\n",
       "      <td>3</td>\n",
       "      <td>NaN</td>\n",
       "      <td>NaN</td>\n",
       "      <td>7.656120e+16</td>\n",
       "    </tr>\n",
       "    <tr>\n",
       "      <th>422</th>\n",
       "      <td>422</td>\n",
       "      <td>Joorie</td>\n",
       "      <td>11.2</td>\n",
       "      <td>25.0</td>\n",
       "      <td>452570</td>\n",
       "      <td>6</td>\n",
       "      <td>2017-12-30</td>\n",
       "      <td>If your looking for something to play out of b...</td>\n",
       "      <td>False</td>\n",
       "      <td>1</td>\n",
       "      <td>NaN</td>\n",
       "      <td>NaN</td>\n",
       "      <td>NaN</td>\n",
       "    </tr>\n",
       "    <tr>\n",
       "      <th>567</th>\n",
       "      <td>567</td>\n",
       "      <td>WojoBread</td>\n",
       "      <td>22.4</td>\n",
       "      <td>27.0</td>\n",
       "      <td>1840</td>\n",
       "      <td>5</td>\n",
       "      <td>2018-01-01</td>\n",
       "      <td>I can make better sandwiches than this program</td>\n",
       "      <td>False</td>\n",
       "      <td>4</td>\n",
       "      <td>NaN</td>\n",
       "      <td>NaN</td>\n",
       "      <td>NaN</td>\n",
       "    </tr>\n",
       "    <tr>\n",
       "      <th>568</th>\n",
       "      <td>568</td>\n",
       "      <td>MashedPotatoeSause</td>\n",
       "      <td>12.1</td>\n",
       "      <td>21.0</td>\n",
       "      <td>1840</td>\n",
       "      <td>6</td>\n",
       "      <td>2018-01-01</td>\n",
       "      <td>I'm just puting in a negative review to add va...</td>\n",
       "      <td>False</td>\n",
       "      <td>4</td>\n",
       "      <td>8.0</td>\n",
       "      <td>NaN</td>\n",
       "      <td>7.656120e+16</td>\n",
       "    </tr>\n",
       "    <tr>\n",
       "      <th>592</th>\n",
       "      <td>592</td>\n",
       "      <td>Kachigga</td>\n",
       "      <td>69.9</td>\n",
       "      <td>23.0</td>\n",
       "      <td>1840</td>\n",
       "      <td>9</td>\n",
       "      <td>2018-01-01</td>\n",
       "      <td>Quite difficult to learn to use but after a co...</td>\n",
       "      <td>False</td>\n",
       "      <td>4</td>\n",
       "      <td>NaN</td>\n",
       "      <td>NaN</td>\n",
       "      <td>7.656120e+16</td>\n",
       "    </tr>\n",
       "    <tr>\n",
       "      <th>723</th>\n",
       "      <td>723</td>\n",
       "      <td>Riganone</td>\n",
       "      <td>12.6</td>\n",
       "      <td>19.0</td>\n",
       "      <td>745880</td>\n",
       "      <td>9</td>\n",
       "      <td>2017-12-18</td>\n",
       "      <td>This is a good way to test if your fingers and...</td>\n",
       "      <td>False</td>\n",
       "      <td>4</td>\n",
       "      <td>6.0</td>\n",
       "      <td>NaN</td>\n",
       "      <td>NaN</td>\n",
       "    </tr>\n",
       "  </tbody>\n",
       "</table>\n",
       "</div>"
      ],
      "text/plain": [
       "     Unnamed: 0                      username  hours  products  product_id  \\\n",
       "39           39                       xiodeni   18.4      18.0       35140   \n",
       "130         130  Sir Dan the Super Chivalrous   27.0      16.0      506510   \n",
       "195         195                     Keymasher   22.8      18.0       35140   \n",
       "217         217                    dogminster   24.6      20.0      506510   \n",
       "334         334                      baconn07   18.1      29.0       35140   \n",
       "422         422                        Joorie   11.2      25.0      452570   \n",
       "567         567                     WojoBread   22.4      27.0        1840   \n",
       "568         568            MashedPotatoeSause   12.1      21.0        1840   \n",
       "592         592                      Kachigga   69.9      23.0        1840   \n",
       "723         723                      Riganone   12.6      19.0      745880   \n",
       "\n",
       "     page_order        date  \\\n",
       "39            6  2018-01-03   \n",
       "130           5  2017-12-19   \n",
       "195           8  2018-01-01   \n",
       "217           0  2017-11-23   \n",
       "334           2  2017-12-31   \n",
       "422           6  2017-12-30   \n",
       "567           5  2018-01-01   \n",
       "568           6  2018-01-01   \n",
       "592           9  2018-01-01   \n",
       "723           9  2017-12-18   \n",
       "\n",
       "                                                  text  early_access  page  \\\n",
       "39   I definitely recommend this game. I absolutely...         False     1   \n",
       "130  is more than a love letter to SNES era RPGS. T...         False     1   \n",
       "195  I always loved the Batman: Arkham games so I w...         False     2   \n",
       "217  Just finished playing through and had blast. O...         False     2   \n",
       "334                 Its great even though its  8 years         False     3   \n",
       "422  If your looking for something to play out of b...         False     1   \n",
       "567     I can make better sandwiches than this program         False     4   \n",
       "568  I'm just puting in a negative review to add va...         False     4   \n",
       "592  Quite difficult to learn to use but after a co...         False     4   \n",
       "723  This is a good way to test if your fingers and...         False     4   \n",
       "\n",
       "     found_funny compensation       user_id  \n",
       "39           NaN          NaN           NaN  \n",
       "130          NaN          NaN           NaN  \n",
       "195          NaN          NaN  7.656120e+16  \n",
       "217          NaN          NaN  7.656120e+16  \n",
       "334          NaN          NaN  7.656120e+16  \n",
       "422          NaN          NaN           NaN  \n",
       "567          NaN          NaN           NaN  \n",
       "568          8.0          NaN  7.656120e+16  \n",
       "592          NaN          NaN  7.656120e+16  \n",
       "723          6.0          NaN           NaN  "
      ]
     },
     "execution_count": 12,
     "metadata": {},
     "output_type": "execute_result"
    }
   ],
   "source": [
    "data_reviews3.head(10)"
   ]
  },
  {
   "cell_type": "markdown",
   "id": "5486529b",
   "metadata": {},
   "source": [
    "Elimino aquellas instancias que no tengan usuario"
   ]
  },
  {
   "cell_type": "code",
   "execution_count": 13,
   "id": "234fd680",
   "metadata": {},
   "outputs": [
    {
     "data": {
      "text/plain": [
       "Int64Index([3775656, 4514493, 4873973, 6007473, 6264615], dtype='int64')"
      ]
     },
     "execution_count": 13,
     "metadata": {},
     "output_type": "execute_result"
    }
   ],
   "source": [
    "empty_indexs=data_reviews3[data_reviews3.username.isna()].index\n",
    "empty_indexs"
   ]
  },
  {
   "cell_type": "code",
   "execution_count": 14,
   "id": "973d87f0",
   "metadata": {},
   "outputs": [
    {
     "name": "stderr",
     "output_type": "stream",
     "text": [
      "C:\\Users\\Tati\\anaconda3\\lib\\site-packages\\pandas\\core\\frame.py:4308: SettingWithCopyWarning: \n",
      "A value is trying to be set on a copy of a slice from a DataFrame\n",
      "\n",
      "See the caveats in the documentation: https://pandas.pydata.org/pandas-docs/stable/user_guide/indexing.html#returning-a-view-versus-a-copy\n",
      "  return super().drop(\n"
     ]
    }
   ],
   "source": [
    "data_reviews3.drop(empty_indexs,inplace=True)"
   ]
  },
  {
   "cell_type": "code",
   "execution_count": 15,
   "id": "32dd94c9",
   "metadata": {},
   "outputs": [
    {
     "data": {
      "text/plain": [
       "0"
      ]
     },
     "execution_count": 15,
     "metadata": {},
     "output_type": "execute_result"
    }
   ],
   "source": [
    "data_reviews3.hours.isna().sum()"
   ]
  },
  {
   "cell_type": "markdown",
   "id": "162bc971",
   "metadata": {},
   "source": [
    "Filtro aquellas columnas que no considero utiles para le analisis"
   ]
  },
  {
   "cell_type": "code",
   "execution_count": 16,
   "id": "f0a42483",
   "metadata": {},
   "outputs": [
    {
     "data": {
      "text/html": [
       "<div>\n",
       "<style scoped>\n",
       "    .dataframe tbody tr th:only-of-type {\n",
       "        vertical-align: middle;\n",
       "    }\n",
       "\n",
       "    .dataframe tbody tr th {\n",
       "        vertical-align: top;\n",
       "    }\n",
       "\n",
       "    .dataframe thead th {\n",
       "        text-align: right;\n",
       "    }\n",
       "</style>\n",
       "<table border=\"1\" class=\"dataframe\">\n",
       "  <thead>\n",
       "    <tr style=\"text-align: right;\">\n",
       "      <th></th>\n",
       "      <th>username</th>\n",
       "      <th>hours</th>\n",
       "      <th>products</th>\n",
       "      <th>product_id</th>\n",
       "      <th>text</th>\n",
       "    </tr>\n",
       "  </thead>\n",
       "  <tbody>\n",
       "    <tr>\n",
       "      <th>39</th>\n",
       "      <td>xiodeni</td>\n",
       "      <td>18.4</td>\n",
       "      <td>18.0</td>\n",
       "      <td>35140</td>\n",
       "      <td>I definitely recommend this game. I absolutely...</td>\n",
       "    </tr>\n",
       "    <tr>\n",
       "      <th>130</th>\n",
       "      <td>Sir Dan the Super Chivalrous</td>\n",
       "      <td>27.0</td>\n",
       "      <td>16.0</td>\n",
       "      <td>506510</td>\n",
       "      <td>is more than a love letter to SNES era RPGS. T...</td>\n",
       "    </tr>\n",
       "    <tr>\n",
       "      <th>195</th>\n",
       "      <td>Keymasher</td>\n",
       "      <td>22.8</td>\n",
       "      <td>18.0</td>\n",
       "      <td>35140</td>\n",
       "      <td>I always loved the Batman: Arkham games so I w...</td>\n",
       "    </tr>\n",
       "    <tr>\n",
       "      <th>217</th>\n",
       "      <td>dogminster</td>\n",
       "      <td>24.6</td>\n",
       "      <td>20.0</td>\n",
       "      <td>506510</td>\n",
       "      <td>Just finished playing through and had blast. O...</td>\n",
       "    </tr>\n",
       "    <tr>\n",
       "      <th>334</th>\n",
       "      <td>baconn07</td>\n",
       "      <td>18.1</td>\n",
       "      <td>29.0</td>\n",
       "      <td>35140</td>\n",
       "      <td>Its great even though its  8 years</td>\n",
       "    </tr>\n",
       "    <tr>\n",
       "      <th>...</th>\n",
       "      <td>...</td>\n",
       "      <td>...</td>\n",
       "      <td>...</td>\n",
       "      <td>...</td>\n",
       "      <td>...</td>\n",
       "    </tr>\n",
       "    <tr>\n",
       "      <th>7792455</th>\n",
       "      <td>Omega-Shenron</td>\n",
       "      <td>56.8</td>\n",
       "      <td>29.0</td>\n",
       "      <td>252490</td>\n",
       "      <td>Lots of fun hopefully will get better and better</td>\n",
       "    </tr>\n",
       "    <tr>\n",
       "      <th>7792473</th>\n",
       "      <td>Pobot</td>\n",
       "      <td>48.9</td>\n",
       "      <td>21.0</td>\n",
       "      <td>252490</td>\n",
       "      <td>this game is soo good.</td>\n",
       "    </tr>\n",
       "    <tr>\n",
       "      <th>7792527</th>\n",
       "      <td>Sloba™</td>\n",
       "      <td>47.0</td>\n",
       "      <td>25.0</td>\n",
       "      <td>252490</td>\n",
       "      <td>This game is so much fun,that anyone who plays...</td>\n",
       "    </tr>\n",
       "    <tr>\n",
       "      <th>7792665</th>\n",
       "      <td>Testikills</td>\n",
       "      <td>79.4</td>\n",
       "      <td>19.0</td>\n",
       "      <td>252490</td>\n",
       "      <td>Joke of a dev team. Usually I try not to buy e...</td>\n",
       "    </tr>\n",
       "    <tr>\n",
       "      <th>7792768</th>\n",
       "      <td>smegghed6</td>\n",
       "      <td>26.0</td>\n",
       "      <td>27.0</td>\n",
       "      <td>252490</td>\n",
       "      <td>For an alpha, this is a very smooth game with ...</td>\n",
       "    </tr>\n",
       "  </tbody>\n",
       "</table>\n",
       "<p>238274 rows × 5 columns</p>\n",
       "</div>"
      ],
      "text/plain": [
       "                             username  hours  products  product_id  \\\n",
       "39                            xiodeni   18.4      18.0       35140   \n",
       "130      Sir Dan the Super Chivalrous   27.0      16.0      506510   \n",
       "195                         Keymasher   22.8      18.0       35140   \n",
       "217                        dogminster   24.6      20.0      506510   \n",
       "334                          baconn07   18.1      29.0       35140   \n",
       "...                               ...    ...       ...         ...   \n",
       "7792455                 Omega-Shenron   56.8      29.0      252490   \n",
       "7792473                         Pobot   48.9      21.0      252490   \n",
       "7792527                        Sloba™   47.0      25.0      252490   \n",
       "7792665                    Testikills   79.4      19.0      252490   \n",
       "7792768                     smegghed6   26.0      27.0      252490   \n",
       "\n",
       "                                                      text  \n",
       "39       I definitely recommend this game. I absolutely...  \n",
       "130      is more than a love letter to SNES era RPGS. T...  \n",
       "195      I always loved the Batman: Arkham games so I w...  \n",
       "217      Just finished playing through and had blast. O...  \n",
       "334                     Its great even though its  8 years  \n",
       "...                                                    ...  \n",
       "7792455   Lots of fun hopefully will get better and better  \n",
       "7792473                             this game is soo good.  \n",
       "7792527  This game is so much fun,that anyone who plays...  \n",
       "7792665  Joke of a dev team. Usually I try not to buy e...  \n",
       "7792768  For an alpha, this is a very smooth game with ...  \n",
       "\n",
       "[238274 rows x 5 columns]"
      ]
     },
     "execution_count": 16,
     "metadata": {},
     "output_type": "execute_result"
    }
   ],
   "source": [
    "data_reviews4=data_reviews3.loc[:,['username','hours','products','product_id','text']]\n",
    "data_reviews4.isna().sum()\n",
    "del data_reviews3\n",
    "data_reviews4"
   ]
  },
  {
   "cell_type": "markdown",
   "id": "bea873e5",
   "metadata": {},
   "source": [
    "Realizamos algunos graficos para ver la distribucion de algunas variables"
   ]
  },
  {
   "cell_type": "code",
   "execution_count": 17,
   "id": "52addc76",
   "metadata": {},
   "outputs": [
    {
     "data": {
      "text/plain": [
       "<AxesSubplot:xlabel='products'>"
      ]
     },
     "execution_count": 17,
     "metadata": {},
     "output_type": "execute_result"
    },
    {
     "data": {
      "image/png": "[encoded data removed]",
      "text/plain": [
       "<Figure size 432x288 with 1 Axes>"
      ]
     },
     "metadata": {},
     "output_type": "display_data"
    }
   ],
   "source": [
    "sns.boxplot(x = data_reviews4.products)"
   ]
  },
  {
   "cell_type": "code",
   "execution_count": 18,
   "id": "f917ff52",
   "metadata": {},
   "outputs": [
    {
     "data": {
      "text/plain": [
       "<AxesSubplot:xlabel='hours'>"
      ]
     },
     "execution_count": 18,
     "metadata": {},
     "output_type": "execute_result"
    },
    {
     "data": {
      "image/png": "[encoded data removed]",
      "text/plain": [
       "<Figure size 432x288 with 1 Axes>"
      ]
     },
     "metadata": {},
     "output_type": "display_data"
    }
   ],
   "source": [
    "sns.boxplot(x = data_reviews4.hours)"
   ]
  },
  {
   "cell_type": "code",
   "execution_count": 19,
   "id": "065e869b",
   "metadata": {},
   "outputs": [
    {
     "data": {
      "text/plain": [
       "<AxesSubplot:xlabel='products', ylabel='Density'>"
      ]
     },
     "execution_count": 19,
     "metadata": {},
     "output_type": "execute_result"
    },
    {
     "data": {
      "image/png": "[encoded data removed]",
      "text/plain": [
       "<Figure size 432x288 with 1 Axes>"
      ]
     },
     "metadata": {},
     "output_type": "display_data"
    }
   ],
   "source": [
    "sns.kdeplot(data=data_reviews4.products)"
   ]
  },
  {
   "cell_type": "code",
   "execution_count": 21,
   "id": "7ea0cdfe",
   "metadata": {},
   "outputs": [
    {
     "data": {
      "text/plain": [
       "<AxesSubplot:xlabel='hours', ylabel='Density'>"
      ]
     },
     "execution_count": 21,
     "metadata": {},
     "output_type": "execute_result"
    },
    {
     "data": {
      "image/png": "[encoded data removed]",
      "text/plain": [
       "<Figure size 432x288 with 1 Axes>"
      ]
     },
     "metadata": {},
     "output_type": "display_data"
    }
   ],
   "source": [
    "sns.kdeplot(data=data_reviews4.hours)"
   ]
  },
  {
   "cell_type": "markdown",
   "id": "dc524a5d",
   "metadata": {},
   "source": [
    "#### Para completar el analisis exploratorio de data_reviews:"
   ]
  },
  {
   "cell_type": "code",
   "execution_count": 22,
   "id": "f3c8cd5d",
   "metadata": {},
   "outputs": [
    {
     "data": {
      "text/plain": [
       "1.144980476130495"
      ]
     },
     "execution_count": 22,
     "metadata": {},
     "output_type": "execute_result"
    }
   ],
   "source": [
    "data_reviews4.head(9090).username.value_counts().mean()"
   ]
  },
  {
   "cell_type": "markdown",
   "id": "428c9791",
   "metadata": {},
   "source": [
    "1. Que cantidad de reviews deja en promedio cada usuario?"
   ]
  },
  {
   "cell_type": "code",
   "execution_count": 36,
   "id": "58701e90",
   "metadata": {},
   "outputs": [
    {
     "name": "stdout",
     "output_type": "stream",
     "text": [
      "El promedio de reviews por usuario es:1.5147454276142223\n"
     ]
    }
   ],
   "source": [
    "reviews_prom=data_reviews4.username.value_counts().mean()\n",
    "print(f'El promedio de reviews por usuario es:{reviews_prom}')"
   ]
  },
  {
   "cell_type": "markdown",
   "id": "f996280a",
   "metadata": {},
   "source": [
    "2. Dentro de los limites establecidos, cuales son los usuarios que mas reviews dejaron?\n"
   ]
  },
  {
   "cell_type": "code",
   "execution_count": 75,
   "id": "7c076b9d",
   "metadata": {},
   "outputs": [
    {
     "data": {
      "text/plain": [
       "['123',\n",
       " 'Alex',\n",
       " 'Matt',\n",
       " '-13-',\n",
       " 'Red',\n",
       " 'Ghost',\n",
       " 'Shadow',\n",
       " 'Jeff',\n",
       " 'Wolf',\n",
       " '..',\n",
       " 'Alpha',\n",
       " 'Blaze',\n",
       " '...',\n",
       " 'Dan',\n",
       " 'ุ']"
      ]
     },
     "execution_count": 75,
     "metadata": {},
     "output_type": "execute_result"
    }
   ],
   "source": [
    "data_reviews4['username'].value_counts()[0:15].index.tolist()"
   ]
  },
  {
   "cell_type": "markdown",
   "id": "43e87cc1",
   "metadata": {},
   "source": [
    "3. Dentro de los limites establecidos, cuales son los usuarios que menos reviews dejaron?"
   ]
  },
  {
   "cell_type": "code",
   "execution_count": 76,
   "id": "6fae8141",
   "metadata": {},
   "outputs": [
    {
     "data": {
      "text/plain": [
       "['s7eamteam',\n",
       " 'K3SS3Y',\n",
       " 'Alinyap',\n",
       " 'darksoulwalker',\n",
       " '*=SAS=*mavgrab302',\n",
       " 'Dooley',\n",
       " 'Benjaws78',\n",
       " 'TicClick',\n",
       " 'carpe diem',\n",
       " 'SilverWolf2764',\n",
       " 'MysticaLDangeR',\n",
       " 'jansebsull2',\n",
       " 'Keine',\n",
       " 'Florin']"
      ]
     },
     "execution_count": 76,
     "metadata": {},
     "output_type": "execute_result"
    }
   ],
   "source": [
    "data_reviews4['username'].value_counts()[-15:-1].index.tolist()"
   ]
  },
  {
   "cell_type": "markdown",
   "id": "a10e6cfd",
   "metadata": {},
   "source": [
    "4. Cual es el juego que mas reviews tuvo? cual el que menos reviews tuvo?"
   ]
  },
  {
   "cell_type": "code",
   "execution_count": 80,
   "id": "4a6b352b",
   "metadata": {},
   "outputs": [
    {
     "data": {
      "text/plain": [
       "0    440\n",
       "dtype: int64"
      ]
     },
     "execution_count": 80,
     "metadata": {},
     "output_type": "execute_result"
    }
   ],
   "source": [
    "data_reviews4.product_id.mode()"
   ]
  },
  {
   "cell_type": "code",
   "execution_count": 81,
   "id": "aa817412",
   "metadata": {},
   "outputs": [
    {
     "data": {
      "text/plain": [
       "count    157303.000000\n",
       "mean          1.514745\n",
       "std           1.223178\n",
       "min           1.000000\n",
       "25%           1.000000\n",
       "50%           1.000000\n",
       "75%           2.000000\n",
       "max          64.000000\n",
       "Name: username, dtype: float64"
      ]
     },
     "execution_count": 81,
     "metadata": {},
     "output_type": "execute_result"
    }
   ],
   "source": [
    "data_reviews4.username.value_counts().describe()"
   ]
  },
  {
   "cell_type": "code",
   "execution_count": 82,
   "id": "71086f62",
   "metadata": {},
   "outputs": [
    {
     "data": {
      "text/plain": [
       "(0.0, 10.0)"
      ]
     },
     "execution_count": 82,
     "metadata": {},
     "output_type": "execute_result"
    },
    {
     "data": {
      "image/png": "[encoded data removed]",
      "text/plain": [
       "<Figure size 720x360 with 1 Axes>"
      ]
     },
     "metadata": {},
     "output_type": "display_data"
    }
   ],
   "source": [
    "plt.figure(figsize=(10, 5))\n",
    "ax = sns.boxplot(x=data_reviews4.username.value_counts())\n",
    "ax.set_xlim([0,10])"
   ]
  },
  {
   "cell_type": "markdown",
   "id": "8bbb1148",
   "metadata": {},
   "source": [
    "### Analisis exploratorio Data Games"
   ]
  },
  {
   "cell_type": "code",
   "execution_count": 95,
   "id": "9bd7dbc8",
   "metadata": {},
   "outputs": [
    {
     "data": {
      "text/plain": [
       "(30055,)"
      ]
     },
     "execution_count": 95,
     "metadata": {},
     "output_type": "execute_result"
    }
   ],
   "source": [
    "data_games['title'].unique().shape"
   ]
  },
  {
   "cell_type": "code",
   "execution_count": 96,
   "id": "9e1c4e6f",
   "metadata": {},
   "outputs": [
    {
     "data": {
      "text/plain": [
       "0        http://store.steampowered.com/app/761140/Lost_...\n",
       "1        http://store.steampowered.com/app/643980/Ironb...\n",
       "2        http://store.steampowered.com/app/670290/Real_...\n",
       "3           http://store.steampowered.com/app/767400/2222/\n",
       "4        http://store.steampowered.com/app/773570/Log_C...\n",
       "                               ...                        \n",
       "32130    http://store.steampowered.com/app/773640/Colon...\n",
       "32131    http://store.steampowered.com/app/733530/LOGis...\n",
       "32132    http://store.steampowered.com/app/610660/Russi...\n",
       "32133    http://store.steampowered.com/app/658870/EXIT_...\n",
       "32134    http://store.steampowered.com/app/681550/Maze_...\n",
       "Name: url, Length: 32135, dtype: object"
      ]
     },
     "execution_count": 96,
     "metadata": {},
     "output_type": "execute_result"
    }
   ],
   "source": [
    "data_games.url"
   ]
  },
  {
   "cell_type": "code",
   "execution_count": 97,
   "id": "10b5ab2f",
   "metadata": {},
   "outputs": [],
   "source": [
    "data_games.drop_duplicates(subset =\"id\",\n",
    "                     keep = False, inplace = True)"
   ]
  },
  {
   "cell_type": "code",
   "execution_count": 98,
   "id": "212dcad9",
   "metadata": {},
   "outputs": [
    {
     "data": {
      "text/plain": [
       "(32131, 16)"
      ]
     },
     "execution_count": 98,
     "metadata": {},
     "output_type": "execute_result"
    }
   ],
   "source": [
    "data_games.shape"
   ]
  },
  {
   "cell_type": "code",
   "execution_count": 99,
   "id": "77f9ab1f",
   "metadata": {},
   "outputs": [
    {
     "data": {
      "text/plain": [
       "32131"
      ]
     },
     "execution_count": 99,
     "metadata": {},
     "output_type": "execute_result"
    }
   ],
   "source": [
    "data_games.id.unique().size"
   ]
  },
  {
   "cell_type": "code",
   "execution_count": 100,
   "id": "5547f36a",
   "metadata": {},
   "outputs": [],
   "source": [
    "url_splited = data_games.url.str.split('/')"
   ]
  },
  {
   "cell_type": "code",
   "execution_count": 101,
   "id": "af76f190",
   "metadata": {},
   "outputs": [
    {
     "name": "stderr",
     "output_type": "stream",
     "text": [
      "<ipython-input-101-abade9795606>:6: SettingWithCopyWarning: \n",
      "A value is trying to be set on a copy of a slice from a DataFrame\n",
      "\n",
      "See the caveats in the documentation: https://pandas.pydata.org/pandas-docs/stable/user_guide/indexing.html#returning-a-view-versus-a-copy\n",
      "  data_games[\"URL_NAME\"][k] = i[m]\n"
     ]
    }
   ],
   "source": [
    "resultados = []\n",
    "data_games[\"URL_NAME\"] = \"\"\n",
    "k=0\n",
    "m = 5\n",
    "for i in url_splited:\n",
    "    data_games[\"URL_NAME\"][k] = i[m]\n",
    "    resultados.append(i[m])\n",
    "    k=k+1\n",
    "k=0"
   ]
  },
  {
   "cell_type": "code",
   "execution_count": 102,
   "id": "c3252c02",
   "metadata": {},
   "outputs": [],
   "source": [
    "data_games.drop(['title'],inplace=True,axis=1)"
   ]
  },
  {
   "cell_type": "code",
   "execution_count": 103,
   "id": "26d2977d",
   "metadata": {},
   "outputs": [
    {
     "name": "stdout",
     "output_type": "stream",
     "text": [
      "El 6.059568640876412% son juegos que permiten ser probados antes de su lanzamiento \n"
     ]
    }
   ],
   "source": [
    "data_games.early_access.value_counts()\n",
    "print( f'El {1947/(30184+1947)*100}% son juegos que permiten ser probados antes de su lanzamiento ')"
   ]
  },
  {
   "cell_type": "code",
   "execution_count": 104,
   "id": "194c893f",
   "metadata": {},
   "outputs": [],
   "source": [
    "data_games['price'].fillna('null',inplace=True)"
   ]
  },
  {
   "cell_type": "code",
   "execution_count": 108,
   "id": "9b316dee",
   "metadata": {},
   "outputs": [],
   "source": [
    "data_games['prece_']=data_games['price']"
   ]
  },
  {
   "cell_type": "code",
   "execution_count": 109,
   "id": "839922ee",
   "metadata": {},
   "outputs": [
    {
     "data": {
      "text/plain": [
       "0                4.99\n",
       "1        Free To Play\n",
       "2        Free to Play\n",
       "3                0.99\n",
       "4                2.99\n",
       "             ...     \n",
       "32130            1.99\n",
       "32131            4.99\n",
       "32132            1.99\n",
       "32133            4.99\n",
       "32134            4.99\n",
       "Name: prece_, Length: 32131, dtype: object"
      ]
     },
     "execution_count": 109,
     "metadata": {},
     "output_type": "execute_result"
    }
   ],
   "source": [
    "data_games['prece_']"
   ]
  },
  {
   "cell_type": "code",
   "execution_count": 125,
   "id": "5c03f8bc",
   "metadata": {},
   "outputs": [
    {
     "name": "stderr",
     "output_type": "stream",
     "text": [
      "<ipython-input-125-1fcf63ba780f>:8: SettingWithCopyWarning: \n",
      "A value is trying to be set on a copy of a slice from a DataFrame\n",
      "\n",
      "See the caveats in the documentation: https://pandas.pydata.org/pandas-docs/stable/user_guide/indexing.html#returning-a-view-versus-a-copy\n",
      "  data_games.precie_[k]=0.00\n",
      "<ipython-input-125-1fcf63ba780f>:5: SettingWithCopyWarning: \n",
      "A value is trying to be set on a copy of a slice from a DataFrame\n",
      "\n",
      "See the caveats in the documentation: https://pandas.pydata.org/pandas-docs/stable/user_guide/indexing.html#returning-a-view-versus-a-copy\n",
      "  data_games.precie_[k]=y.split(' ')[-1]\n",
      "<ipython-input-125-1fcf63ba780f>:6: SettingWithCopyWarning: \n",
      "A value is trying to be set on a copy of a slice from a DataFrame\n",
      "\n",
      "See the caveats in the documentation: https://pandas.pydata.org/pandas-docs/stable/user_guide/indexing.html#returning-a-view-versus-a-copy\n",
      "  data_games.precie_[k]= float(data_games.precie_[k].replace(\"$\", \"\"))\n"
     ]
    }
   ],
   "source": [
    "k=0\n",
    "for y in data_games.precie_:\n",
    "    if(isinstance(y, str)):\n",
    "        if (y.find('Starting')!=-1):\n",
    "            data_games.precie_[k]=y.split(' ')[-1]\n",
    "            data_games.precie_[k]= float(data_games.precie_[k].replace(\"$\", \"\"))\n",
    "        else:\n",
    "            data_games.precie_[k]=0.00\n",
    "    k=k+1"
   ]
  },
  {
   "cell_type": "code",
   "execution_count": 126,
   "id": "fbe14bfe",
   "metadata": {},
   "outputs": [
    {
     "data": {
      "text/plain": [
       "array([4.99, 0.0, 0.99, 2.99, 3.99, 9.99, 18.99, 29.99, 10.99, 1.59,\n",
       "       14.99, 1.99, 59.99, 8.99, 6.99, 7.99, 39.99, 19.99, 7.49, 'null',\n",
       "       12.99, 5.99, 2.49, 'Free', 1.25, 'Free to Play', 24.99, 17.99,\n",
       "       61.99, 3.49, 11.99, 13.99, 'Free Demo', 'Play for Free!', 74.76,\n",
       "       1.49, 32.99, 99.99, 14.95, 69.99, 16.99, 79.99, 49.99, 5.0, 44.99,\n",
       "       13.98, 'Free To Play', 15.99, 34.99, 29.96, 119.99, 109.99, 149.99,\n",
       "       'Install Now', 21.99, 89.99, 'Play WARMACHINE: Tactics Demo',\n",
       "       139.92, 4.29, 64.99, 'Free Mod', 54.99, 74.99, 'Install Theme',\n",
       "       0.89, 'Third-party', 0.5, 'Play Now', 1.29, 3.0, 15.0, 5.49, 23.99,\n",
       "       49.0, 20.99, 10.93, 1.39, 'Free HITMAN™ Holiday Pack', 36.99, 4.49,\n",
       "       2.0, 4.0, 234.99, 1.95, 1.5, 199.0, 189.0, 6.66, 27.99, 10.49,\n",
       "       129.99, 179.0, 26.99, 399.99, 31.99, 399.0, 20.0, 40.0, 3.33,\n",
       "       199.99, 22.99, 320.0, 38.85, 71.7, 59.95, 995.0, 3.39, 19.95,\n",
       "       499.99, 16.06, 4.68, 131.4, 202.76, 1.0, 2.3, 0.95, 172.24, 299.99,\n",
       "       249.99, 2.97, 10.96, 10.0, 30.0, 2.66, 6.48, 19.29, 11.15, 18.9,\n",
       "       0.98, 2.89, 'Play the Demo', 99.0, 87.94, 599.0, 8.98, 9.69, 0.49,\n",
       "       9.98, 9.95, 7.0, '499.00', 449.0, 'Starting at $449.00', 12.89,\n",
       "       6.49, 1.87, 42.99, 41.99, 289.99, 23.96, 5.65, 12.0, 13.37, 189.96,\n",
       "       124.99, 'Free Movie', 19.98, 160.91, 'Free to Use'], dtype=object)"
      ]
     },
     "execution_count": 126,
     "metadata": {},
     "output_type": "execute_result"
    }
   ],
   "source": [
    "data_games.precie_.unique()"
   ]
  },
  {
   "cell_type": "code",
   "execution_count": 127,
   "id": "4444763d",
   "metadata": {},
   "outputs": [],
   "source": [
    "data_games2=data_games.loc[:,['URL_NAME','id']]"
   ]
  },
  {
   "cell_type": "code",
   "execution_count": 131,
   "id": "67b23cac",
   "metadata": {},
   "outputs": [
    {
     "data": {
      "text/plain": [
       "float"
      ]
     },
     "execution_count": 131,
     "metadata": {},
     "output_type": "execute_result"
    }
   ],
   "source": [
    "type(data_games.precie_.iloc[14])"
   ]
  },
  {
   "cell_type": "code",
   "execution_count": 134,
   "id": "ec0206b0",
   "metadata": {
    "scrolled": true
   },
   "outputs": [],
   "source": [
    "#plt.figure(figsize=(20, 10))\n",
    "#sns.boxplot(x=data_games.precie_[data_games.precie_<399])"
   ]
  },
  {
   "cell_type": "code",
   "execution_count": 135,
   "id": "c68e74f3",
   "metadata": {},
   "outputs": [],
   "source": [
    "data_games2.id=pd.to_numeric(data_games2.id,downcast='integer')"
   ]
  },
  {
   "cell_type": "code",
   "execution_count": 136,
   "id": "dea67f6d",
   "metadata": {},
   "outputs": [
    {
     "data": {
      "text/html": [
       "<div>\n",
       "<style scoped>\n",
       "    .dataframe tbody tr th:only-of-type {\n",
       "        vertical-align: middle;\n",
       "    }\n",
       "\n",
       "    .dataframe tbody tr th {\n",
       "        vertical-align: top;\n",
       "    }\n",
       "\n",
       "    .dataframe thead th {\n",
       "        text-align: right;\n",
       "    }\n",
       "</style>\n",
       "<table border=\"1\" class=\"dataframe\">\n",
       "  <thead>\n",
       "    <tr style=\"text-align: right;\">\n",
       "      <th></th>\n",
       "      <th>URL_NAME</th>\n",
       "      <th>id</th>\n",
       "    </tr>\n",
       "  </thead>\n",
       "  <tbody>\n",
       "    <tr>\n",
       "      <th>0</th>\n",
       "      <td>Lost_Summoner_Kitty</td>\n",
       "      <td>761140</td>\n",
       "    </tr>\n",
       "    <tr>\n",
       "      <th>1</th>\n",
       "      <td>Ironbound</td>\n",
       "      <td>643980</td>\n",
       "    </tr>\n",
       "    <tr>\n",
       "      <th>2</th>\n",
       "      <td>Real_Pool_3D__Poolians</td>\n",
       "      <td>670290</td>\n",
       "    </tr>\n",
       "    <tr>\n",
       "      <th>3</th>\n",
       "      <td>2222</td>\n",
       "      <td>767400</td>\n",
       "    </tr>\n",
       "    <tr>\n",
       "      <th>4</th>\n",
       "      <td>Log_Challenge</td>\n",
       "      <td>773570</td>\n",
       "    </tr>\n",
       "    <tr>\n",
       "      <th>...</th>\n",
       "      <td>...</td>\n",
       "      <td>...</td>\n",
       "    </tr>\n",
       "    <tr>\n",
       "      <th>32130</th>\n",
       "      <td>Maze_Run_VR</td>\n",
       "      <td>773640</td>\n",
       "    </tr>\n",
       "    <tr>\n",
       "      <th>32131</th>\n",
       "      <td></td>\n",
       "      <td>733530</td>\n",
       "    </tr>\n",
       "    <tr>\n",
       "      <th>32132</th>\n",
       "      <td></td>\n",
       "      <td>610660</td>\n",
       "    </tr>\n",
       "    <tr>\n",
       "      <th>32133</th>\n",
       "      <td></td>\n",
       "      <td>658870</td>\n",
       "    </tr>\n",
       "    <tr>\n",
       "      <th>32134</th>\n",
       "      <td></td>\n",
       "      <td>681550</td>\n",
       "    </tr>\n",
       "  </tbody>\n",
       "</table>\n",
       "<p>32131 rows × 2 columns</p>\n",
       "</div>"
      ],
      "text/plain": [
       "                     URL_NAME      id\n",
       "0         Lost_Summoner_Kitty  761140\n",
       "1                   Ironbound  643980\n",
       "2      Real_Pool_3D__Poolians  670290\n",
       "3                        2222  767400\n",
       "4               Log_Challenge  773570\n",
       "...                       ...     ...\n",
       "32130             Maze_Run_VR  773640\n",
       "32131                          733530\n",
       "32132                          610660\n",
       "32133                          658870\n",
       "32134                          681550\n",
       "\n",
       "[32131 rows x 2 columns]"
      ]
     },
     "execution_count": 136,
     "metadata": {},
     "output_type": "execute_result"
    }
   ],
   "source": [
    "data_games2"
   ]
  },
  {
   "cell_type": "code",
   "execution_count": null,
   "id": "9c07c31f",
   "metadata": {},
   "outputs": [],
   "source": []
  }
 ],
 "metadata": {
  "kernelspec": {
   "display_name": "Python 3",
   "language": "python",
   "name": "python3"
  },
  "language_info": {
   "codemirror_mode": {
    "name": "ipython",
    "version": 3
   },
   "file_extension": ".py",
   "mimetype": "text/x-python",
   "name": "python",
   "nbconvert_exporter": "python",
   "pygments_lexer": "ipython3",
   "version": "3.8.8"
  }
 },
 "nbformat": 4,
 "nbformat_minor": 5
}
