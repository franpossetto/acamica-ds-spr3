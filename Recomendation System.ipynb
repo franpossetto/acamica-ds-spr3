{
 "cells": [
  {
   "cell_type": "code",
   "execution_count": 3,
   "id": "497d642d",
   "metadata": {},
   "outputs": [],
   "source": [
    "import numpy as np\n",
    "import pandas as pd\n",
    "import matplotlib.pyplot as plt\n",
    "import seaborn as sns\n",
    "sns.set()\n",
    "from nltk.tokenize import sent_tokenize, word_tokenize\n",
    "from textblob import TextBlob\n",
    "from surprise import SVD\n",
    "from surprise import Dataset\n",
    "from surprise import Reader\n",
    "from surprise.model_selection import train_test_split\n",
    "import gc\n",
    "from surprise import accuracy\n",
    "from surprise.model_selection import cross_validate\n",
    "from surprise.model_selection import GridSearchCV"
   ]
  },
  {
   "cell_type": "code",
   "execution_count": 6,
   "id": "9105383c",
   "metadata": {},
   "outputs": [],
   "source": [
    "df_reviews= pd.read_csv('C:\\\\Users\\\\Tati\\\\source\\\\repos\\\\data_full.csv')"
   ]
  },
  {
   "cell_type": "code",
   "execution_count": 7,
   "id": "c289b103",
   "metadata": {},
   "outputs": [],
   "source": [
    "reader=Reader()"
   ]
  },
  {
   "cell_type": "code",
   "execution_count": 8,
   "id": "d829ec82",
   "metadata": {},
   "outputs": [],
   "source": [
    "data=Dataset.load_from_df(df[['username','product_id','Calif']],reader=reader)"
   ]
  },
  {
   "cell_type": "code",
   "execution_count": 9,
   "id": "25e3d405",
   "metadata": {},
   "outputs": [],
   "source": [
    "trainset,testset=train_test_split(data,test_size=.3)"
   ]
  },
  {
   "cell_type": "code",
   "execution_count": 10,
   "id": "46dcdf9d",
   "metadata": {},
   "outputs": [],
   "source": [
    "algo=SVD()"
   ]
  },
  {
   "cell_type": "code",
   "execution_count": 11,
   "id": "d9ce82b4",
   "metadata": {},
   "outputs": [
    {
     "data": {
      "text/plain": [
       "<surprise.prediction_algorithms.matrix_factorization.SVD at 0x21201418910>"
      ]
     },
     "execution_count": 11,
     "metadata": {},
     "output_type": "execute_result"
    }
   ],
   "source": [
    "algo.fit(trainset)"
   ]
  },
  {
   "cell_type": "code",
   "execution_count": 12,
   "id": "3b50e6ef",
   "metadata": {},
   "outputs": [],
   "source": [
    "prediction=algo.test(testset)"
   ]
  },
  {
   "cell_type": "code",
   "execution_count": 13,
   "id": "bd043db7",
   "metadata": {},
   "outputs": [],
   "source": [
    "usuario='Alex'"
   ]
  },
  {
   "cell_type": "code",
   "execution_count": 16,
   "id": "ef93d62a",
   "metadata": {},
   "outputs": [],
   "source": [
    "data_reviews_ok=df.loc[:,['username','Calif','product_id']]"
   ]
  },
  {
   "cell_type": "code",
   "execution_count": 20,
   "id": "93cccc87",
   "metadata": {},
   "outputs": [],
   "source": [
    "no_vista_usuario=data_reviews_ok[data_reviews_ok[\"username\"]!=usuario]\n",
    "no_vista_usuario.reset_index(drop=True,inplace=True)\n",
    "#no_vista_usuario=no_vista_usuario['product_id']"
   ]
  },
  {
   "cell_type": "code",
   "execution_count": 21,
   "id": "dd1056cb",
   "metadata": {},
   "outputs": [
    {
     "data": {
      "text/html": [
       "<div>\n",
       "<style scoped>\n",
       "    .dataframe tbody tr th:only-of-type {\n",
       "        vertical-align: middle;\n",
       "    }\n",
       "\n",
       "    .dataframe tbody tr th {\n",
       "        vertical-align: top;\n",
       "    }\n",
       "\n",
       "    .dataframe thead th {\n",
       "        text-align: right;\n",
       "    }\n",
       "</style>\n",
       "<table border=\"1\" class=\"dataframe\">\n",
       "  <thead>\n",
       "    <tr style=\"text-align: right;\">\n",
       "      <th></th>\n",
       "      <th>username</th>\n",
       "      <th>Calif</th>\n",
       "      <th>product_id</th>\n",
       "    </tr>\n",
       "  </thead>\n",
       "  <tbody>\n",
       "    <tr>\n",
       "      <th>0</th>\n",
       "      <td>xiodeni</td>\n",
       "      <td>3</td>\n",
       "      <td>35140</td>\n",
       "    </tr>\n",
       "    <tr>\n",
       "      <th>1</th>\n",
       "      <td>Sir Dan the Super Chivalrous</td>\n",
       "      <td>3</td>\n",
       "      <td>506510</td>\n",
       "    </tr>\n",
       "    <tr>\n",
       "      <th>2</th>\n",
       "      <td>Keymasher</td>\n",
       "      <td>3</td>\n",
       "      <td>35140</td>\n",
       "    </tr>\n",
       "    <tr>\n",
       "      <th>3</th>\n",
       "      <td>dogminster</td>\n",
       "      <td>1</td>\n",
       "      <td>506510</td>\n",
       "    </tr>\n",
       "    <tr>\n",
       "      <th>4</th>\n",
       "      <td>baconn07</td>\n",
       "      <td>3</td>\n",
       "      <td>35140</td>\n",
       "    </tr>\n",
       "    <tr>\n",
       "      <th>...</th>\n",
       "      <td>...</td>\n",
       "      <td>...</td>\n",
       "      <td>...</td>\n",
       "    </tr>\n",
       "    <tr>\n",
       "      <th>237924</th>\n",
       "      <td>Omega-Shenron</td>\n",
       "      <td>2</td>\n",
       "      <td>252490</td>\n",
       "    </tr>\n",
       "    <tr>\n",
       "      <th>237925</th>\n",
       "      <td>Pobot</td>\n",
       "      <td>2</td>\n",
       "      <td>252490</td>\n",
       "    </tr>\n",
       "    <tr>\n",
       "      <th>237926</th>\n",
       "      <td>Sloba™</td>\n",
       "      <td>2</td>\n",
       "      <td>252490</td>\n",
       "    </tr>\n",
       "    <tr>\n",
       "      <th>237927</th>\n",
       "      <td>Testikills</td>\n",
       "      <td>2</td>\n",
       "      <td>252490</td>\n",
       "    </tr>\n",
       "    <tr>\n",
       "      <th>237928</th>\n",
       "      <td>smegghed6</td>\n",
       "      <td>2</td>\n",
       "      <td>252490</td>\n",
       "    </tr>\n",
       "  </tbody>\n",
       "</table>\n",
       "<p>237929 rows × 3 columns</p>\n",
       "</div>"
      ],
      "text/plain": [
       "                            username  Calif  product_id\n",
       "0                            xiodeni      3       35140\n",
       "1       Sir Dan the Super Chivalrous      3      506510\n",
       "2                          Keymasher      3       35140\n",
       "3                         dogminster      1      506510\n",
       "4                           baconn07      3       35140\n",
       "...                              ...    ...         ...\n",
       "237924                 Omega-Shenron      2      252490\n",
       "237925                         Pobot      2      252490\n",
       "237926                        Sloba™      2      252490\n",
       "237927                    Testikills      2      252490\n",
       "237928                     smegghed6      2      252490\n",
       "\n",
       "[237929 rows x 3 columns]"
      ]
     },
     "execution_count": 21,
     "metadata": {},
     "output_type": "execute_result"
    }
   ],
   "source": [
    "no_vista_usuario"
   ]
  },
  {
   "cell_type": "code",
   "execution_count": 24,
   "id": "75edf9d5",
   "metadata": {},
   "outputs": [
    {
     "data": {
      "text/plain": [
       "username      237929\n",
       "Calif         237929\n",
       "product_id    237929\n",
       "dtype: int64"
      ]
     },
     "execution_count": 24,
     "metadata": {},
     "output_type": "execute_result"
    }
   ],
   "source": [
    "no_vista_usuario.count()"
   ]
  },
  {
   "cell_type": "code",
   "execution_count": 25,
   "id": "89ba1444",
   "metadata": {},
   "outputs": [
    {
     "name": "stderr",
     "output_type": "stream",
     "text": [
      "<ipython-input-25-d521403353da>:1: SettingWithCopyWarning: \n",
      "A value is trying to be set on a copy of a slice from a DataFrame\n",
      "\n",
      "See the caveats in the documentation: https://pandas.pydata.org/pandas-docs/stable/user_guide/indexing.html#returning-a-view-versus-a-copy\n",
      "  no_vista_usuario.drop_duplicates(inplace=True)\n"
     ]
    },
    {
     "data": {
      "text/plain": [
       "username      207822\n",
       "Calif         207822\n",
       "product_id    207822\n",
       "dtype: int64"
      ]
     },
     "execution_count": 25,
     "metadata": {},
     "output_type": "execute_result"
    }
   ],
   "source": [
    "no_vista_usuario.drop_duplicates(inplace=True)\n",
    "no_vista_usuario.count()"
   ]
  },
  {
   "cell_type": "code",
   "execution_count": 26,
   "id": "e424fa0c",
   "metadata": {},
   "outputs": [
    {
     "data": {
      "text/html": [
       "<div>\n",
       "<style scoped>\n",
       "    .dataframe tbody tr th:only-of-type {\n",
       "        vertical-align: middle;\n",
       "    }\n",
       "\n",
       "    .dataframe tbody tr th {\n",
       "        vertical-align: top;\n",
       "    }\n",
       "\n",
       "    .dataframe thead th {\n",
       "        text-align: right;\n",
       "    }\n",
       "</style>\n",
       "<table border=\"1\" class=\"dataframe\">\n",
       "  <thead>\n",
       "    <tr style=\"text-align: right;\">\n",
       "      <th></th>\n",
       "      <th>username</th>\n",
       "      <th>Calif</th>\n",
       "      <th>product_id</th>\n",
       "    </tr>\n",
       "  </thead>\n",
       "  <tbody>\n",
       "    <tr>\n",
       "      <th>0</th>\n",
       "      <td>xiodeni</td>\n",
       "      <td>3</td>\n",
       "      <td>35140</td>\n",
       "    </tr>\n",
       "    <tr>\n",
       "      <th>1</th>\n",
       "      <td>Sir Dan the Super Chivalrous</td>\n",
       "      <td>3</td>\n",
       "      <td>506510</td>\n",
       "    </tr>\n",
       "    <tr>\n",
       "      <th>2</th>\n",
       "      <td>Keymasher</td>\n",
       "      <td>3</td>\n",
       "      <td>35140</td>\n",
       "    </tr>\n",
       "    <tr>\n",
       "      <th>3</th>\n",
       "      <td>dogminster</td>\n",
       "      <td>1</td>\n",
       "      <td>506510</td>\n",
       "    </tr>\n",
       "    <tr>\n",
       "      <th>4</th>\n",
       "      <td>baconn07</td>\n",
       "      <td>3</td>\n",
       "      <td>35140</td>\n",
       "    </tr>\n",
       "    <tr>\n",
       "      <th>...</th>\n",
       "      <td>...</td>\n",
       "      <td>...</td>\n",
       "      <td>...</td>\n",
       "    </tr>\n",
       "    <tr>\n",
       "      <th>207817</th>\n",
       "      <td>Omega-Shenron</td>\n",
       "      <td>2</td>\n",
       "      <td>252490</td>\n",
       "    </tr>\n",
       "    <tr>\n",
       "      <th>207818</th>\n",
       "      <td>Pobot</td>\n",
       "      <td>2</td>\n",
       "      <td>252490</td>\n",
       "    </tr>\n",
       "    <tr>\n",
       "      <th>207819</th>\n",
       "      <td>Sloba™</td>\n",
       "      <td>2</td>\n",
       "      <td>252490</td>\n",
       "    </tr>\n",
       "    <tr>\n",
       "      <th>207820</th>\n",
       "      <td>Testikills</td>\n",
       "      <td>2</td>\n",
       "      <td>252490</td>\n",
       "    </tr>\n",
       "    <tr>\n",
       "      <th>207821</th>\n",
       "      <td>smegghed6</td>\n",
       "      <td>2</td>\n",
       "      <td>252490</td>\n",
       "    </tr>\n",
       "  </tbody>\n",
       "</table>\n",
       "<p>207822 rows × 3 columns</p>\n",
       "</div>"
      ],
      "text/plain": [
       "                            username  Calif  product_id\n",
       "0                            xiodeni      3       35140\n",
       "1       Sir Dan the Super Chivalrous      3      506510\n",
       "2                          Keymasher      3       35140\n",
       "3                         dogminster      1      506510\n",
       "4                           baconn07      3       35140\n",
       "...                              ...    ...         ...\n",
       "207817                 Omega-Shenron      2      252490\n",
       "207818                         Pobot      2      252490\n",
       "207819                        Sloba™      2      252490\n",
       "207820                    Testikills      2      252490\n",
       "207821                     smegghed6      2      252490\n",
       "\n",
       "[207822 rows x 3 columns]"
      ]
     },
     "execution_count": 26,
     "metadata": {},
     "output_type": "execute_result"
    }
   ],
   "source": [
    "no_vista_usuario.reset_index(drop=True,inplace=True)\n",
    "no_vista_usuario"
   ]
  },
  {
   "cell_type": "code",
   "execution_count": 27,
   "id": "4f97357a",
   "metadata": {},
   "outputs": [
    {
     "name": "stderr",
     "output_type": "stream",
     "text": [
      "<ipython-input-27-1a6dbf8c99c4>:1: SettingWithCopyWarning: \n",
      "A value is trying to be set on a copy of a slice from a DataFrame.\n",
      "Try using .loc[row_indexer,col_indexer] = value instead\n",
      "\n",
      "See the caveats in the documentation: https://pandas.pydata.org/pandas-docs/stable/user_guide/indexing.html#returning-a-view-versus-a-copy\n",
      "  no_vista_usuario['Username']=usuario\n"
     ]
    }
   ],
   "source": [
    "no_vista_usuario['Username']=usuario"
   ]
  },
  {
   "cell_type": "code",
   "execution_count": 28,
   "id": "58a13bc1",
   "metadata": {},
   "outputs": [
    {
     "data": {
      "text/html": [
       "<div>\n",
       "<style scoped>\n",
       "    .dataframe tbody tr th:only-of-type {\n",
       "        vertical-align: middle;\n",
       "    }\n",
       "\n",
       "    .dataframe tbody tr th {\n",
       "        vertical-align: top;\n",
       "    }\n",
       "\n",
       "    .dataframe thead th {\n",
       "        text-align: right;\n",
       "    }\n",
       "</style>\n",
       "<table border=\"1\" class=\"dataframe\">\n",
       "  <thead>\n",
       "    <tr style=\"text-align: right;\">\n",
       "      <th></th>\n",
       "      <th>username</th>\n",
       "      <th>Calif</th>\n",
       "      <th>product_id</th>\n",
       "      <th>Username</th>\n",
       "    </tr>\n",
       "  </thead>\n",
       "  <tbody>\n",
       "    <tr>\n",
       "      <th>0</th>\n",
       "      <td>xiodeni</td>\n",
       "      <td>3</td>\n",
       "      <td>35140</td>\n",
       "      <td>Alex</td>\n",
       "    </tr>\n",
       "    <tr>\n",
       "      <th>1</th>\n",
       "      <td>Sir Dan the Super Chivalrous</td>\n",
       "      <td>3</td>\n",
       "      <td>506510</td>\n",
       "      <td>Alex</td>\n",
       "    </tr>\n",
       "    <tr>\n",
       "      <th>2</th>\n",
       "      <td>Keymasher</td>\n",
       "      <td>3</td>\n",
       "      <td>35140</td>\n",
       "      <td>Alex</td>\n",
       "    </tr>\n",
       "    <tr>\n",
       "      <th>3</th>\n",
       "      <td>dogminster</td>\n",
       "      <td>1</td>\n",
       "      <td>506510</td>\n",
       "      <td>Alex</td>\n",
       "    </tr>\n",
       "    <tr>\n",
       "      <th>4</th>\n",
       "      <td>baconn07</td>\n",
       "      <td>3</td>\n",
       "      <td>35140</td>\n",
       "      <td>Alex</td>\n",
       "    </tr>\n",
       "    <tr>\n",
       "      <th>...</th>\n",
       "      <td>...</td>\n",
       "      <td>...</td>\n",
       "      <td>...</td>\n",
       "      <td>...</td>\n",
       "    </tr>\n",
       "    <tr>\n",
       "      <th>207817</th>\n",
       "      <td>Omega-Shenron</td>\n",
       "      <td>2</td>\n",
       "      <td>252490</td>\n",
       "      <td>Alex</td>\n",
       "    </tr>\n",
       "    <tr>\n",
       "      <th>207818</th>\n",
       "      <td>Pobot</td>\n",
       "      <td>2</td>\n",
       "      <td>252490</td>\n",
       "      <td>Alex</td>\n",
       "    </tr>\n",
       "    <tr>\n",
       "      <th>207819</th>\n",
       "      <td>Sloba™</td>\n",
       "      <td>2</td>\n",
       "      <td>252490</td>\n",
       "      <td>Alex</td>\n",
       "    </tr>\n",
       "    <tr>\n",
       "      <th>207820</th>\n",
       "      <td>Testikills</td>\n",
       "      <td>2</td>\n",
       "      <td>252490</td>\n",
       "      <td>Alex</td>\n",
       "    </tr>\n",
       "    <tr>\n",
       "      <th>207821</th>\n",
       "      <td>smegghed6</td>\n",
       "      <td>2</td>\n",
       "      <td>252490</td>\n",
       "      <td>Alex</td>\n",
       "    </tr>\n",
       "  </tbody>\n",
       "</table>\n",
       "<p>207822 rows × 4 columns</p>\n",
       "</div>"
      ],
      "text/plain": [
       "                            username  Calif  product_id Username\n",
       "0                            xiodeni      3       35140     Alex\n",
       "1       Sir Dan the Super Chivalrous      3      506510     Alex\n",
       "2                          Keymasher      3       35140     Alex\n",
       "3                         dogminster      1      506510     Alex\n",
       "4                           baconn07      3       35140     Alex\n",
       "...                              ...    ...         ...      ...\n",
       "207817                 Omega-Shenron      2      252490     Alex\n",
       "207818                         Pobot      2      252490     Alex\n",
       "207819                        Sloba™      2      252490     Alex\n",
       "207820                    Testikills      2      252490     Alex\n",
       "207821                     smegghed6      2      252490     Alex\n",
       "\n",
       "[207822 rows x 4 columns]"
      ]
     },
     "execution_count": 28,
     "metadata": {},
     "output_type": "execute_result"
    }
   ],
   "source": [
    "no_vista_usuario"
   ]
  },
  {
   "cell_type": "code",
   "execution_count": 29,
   "id": "6f081a74",
   "metadata": {},
   "outputs": [
    {
     "name": "stdout",
     "output_type": "stream",
     "text": [
      "RMSE: 0.1859\n"
     ]
    },
    {
     "data": {
      "text/plain": [
       "0.18585899787097174"
      ]
     },
     "execution_count": 29,
     "metadata": {},
     "output_type": "execute_result"
    }
   ],
   "source": [
    "accuracy.rmse(prediction)"
   ]
  },
  {
   "cell_type": "code",
   "execution_count": 30,
   "id": "560540c2",
   "metadata": {},
   "outputs": [
    {
     "name": "stdout",
     "output_type": "stream",
     "text": [
      "\n",
      "Número de Factores: 1\n",
      "Evaluating RMSE of algorithm SVD on 3 split(s).\n",
      "\n",
      "                  Fold 1  Fold 2  Fold 3  Mean    Std     \n",
      "RMSE (testset)    0.1804  0.1845  0.1816  0.1822  0.0017  \n",
      "Fit time          1.99    2.06    2.12    2.05    0.05    \n",
      "Test time         0.53    0.39    0.50    0.47    0.06    \n",
      "\n",
      "Número de Factores: 2\n",
      "Evaluating RMSE of algorithm SVD on 3 split(s).\n",
      "\n",
      "                  Fold 1  Fold 2  Fold 3  Mean    Std     \n",
      "RMSE (testset)    0.1826  0.1825  0.1820  0.1824  0.0002  \n",
      "Fit time          2.13    2.03    2.06    2.07    0.04    \n",
      "Test time         0.50    0.50    0.49    0.50    0.00    \n",
      "\n",
      "Número de Factores: 4\n",
      "Evaluating RMSE of algorithm SVD on 3 split(s).\n",
      "\n",
      "                  Fold 1  Fold 2  Fold 3  Mean    Std     \n",
      "RMSE (testset)    0.1813  0.1814  0.1842  0.1823  0.0014  \n",
      "Fit time          2.15    2.24    2.25    2.21    0.04    \n",
      "Test time         0.49    0.36    0.36    0.40    0.06    \n",
      "\n",
      "Número de Factores: 8\n",
      "Evaluating RMSE of algorithm SVD on 3 split(s).\n",
      "\n",
      "                  Fold 1  Fold 2  Fold 3  Mean    Std     \n",
      "RMSE (testset)    0.1842  0.1832  0.1798  0.1824  0.0019  \n",
      "Fit time          2.38    2.44    2.47    2.43    0.04    \n",
      "Test time         0.34    0.50    0.36    0.40    0.07    \n",
      "\n",
      "Número de Factores: 16\n",
      "Evaluating RMSE of algorithm SVD on 3 split(s).\n",
      "\n",
      "                  Fold 1  Fold 2  Fold 3  Mean    Std     \n",
      "RMSE (testset)    0.1808  0.1843  0.1834  0.1828  0.0015  \n",
      "Fit time          2.80    2.92    3.33    3.02    0.23    \n",
      "Test time         0.54    0.42    0.51    0.49    0.05    \n",
      "\n",
      "Número de Factores: 32\n",
      "Evaluating RMSE of algorithm SVD on 3 split(s).\n",
      "\n",
      "                  Fold 1  Fold 2  Fold 3  Mean    Std     \n",
      "RMSE (testset)    0.1807  0.1857  0.1858  0.1841  0.0024  \n",
      "Fit time          4.12    4.15    5.07    4.45    0.44    \n",
      "Test time         0.60    0.54    0.56    0.57    0.03    \n"
     ]
    }
   ],
   "source": [
    "rmse_test_means = []\n",
    "factores = [1,2,4,8,16,32]\n",
    "\n",
    "for factor in factores:\n",
    "    print(f'\\nNúmero de Factores: {factor}')\n",
    "    algo = SVD(n_factors=factor)\n",
    "    cv = cross_validate(algo, data, measures=['RMSE'], cv = 3, verbose=True)\n",
    "    rmse_test_means.append(np.mean(cv['test_rmse']))"
   ]
  },
  {
   "cell_type": "code",
   "execution_count": 31,
   "id": "0813a0d5",
   "metadata": {},
   "outputs": [
    {
     "data": {
      "image/png": "[encoded data removed]",
      "text/plain": [
       "<Figure size 432x288 with 1 Axes>"
      ]
     },
     "metadata": {},
     "output_type": "display_data"
    }
   ],
   "source": [
    "plt.scatter(factores, rmse_test_means)\n",
    "plt.xlabel('Numero de factores')\n",
    "plt.ylabel('Error RMSE')\n",
    "plt.show()"
   ]
  },
  {
   "cell_type": "code",
   "execution_count": 32,
   "id": "0de46aca",
   "metadata": {},
   "outputs": [],
   "source": [
    "from surprise.model_selection import GridSearchCV\n",
    "\n",
    "param_grid = {'n_factors': [5,50,100],'n_epochs': [5, 10,20], 'lr_all': [0.001, 0.002, 0.005],\n",
    "              'reg_all': [0.002, 0.02, 0.2]}\n",
    "gs = GridSearchCV(SVD, param_grid, measures=['rmse'], cv=3, n_jobs = -1)"
   ]
  },
  {
   "cell_type": "code",
   "execution_count": 33,
   "id": "1020ef9b",
   "metadata": {},
   "outputs": [],
   "source": [
    "gs.fit(data)"
   ]
  },
  {
   "cell_type": "code",
   "execution_count": 34,
   "id": "943144d5",
   "metadata": {},
   "outputs": [
    {
     "name": "stdout",
     "output_type": "stream",
     "text": [
      "0.1812176729840841\n",
      "{'n_factors': 5, 'n_epochs': 20, 'lr_all': 0.001, 'reg_all': 0.2}\n"
     ]
    }
   ],
   "source": [
    "print(gs.best_score['rmse'])\n",
    "print(gs.best_params['rmse'])"
   ]
  },
  {
   "cell_type": "code",
   "execution_count": null,
   "id": "10ebab1c",
   "metadata": {},
   "outputs": [],
   "source": []
  }
 ],
 "metadata": {
  "kernelspec": {
   "display_name": "Python 3",
   "language": "python",
   "name": "python3"
  },
  "language_info": {
   "codemirror_mode": {
    "name": "ipython",
    "version": 3
   },
   "file_extension": ".py",
   "mimetype": "text/x-python",
   "name": "python",
   "nbconvert_exporter": "python",
   "pygments_lexer": "ipython3",
   "version": "3.8.8"
  }
 },
 "nbformat": 4,
 "nbformat_minor": 5
}
